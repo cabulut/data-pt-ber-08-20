{
 "cells": [
  {
   "cell_type": "code",
   "execution_count": 83,
   "metadata": {},
   "outputs": [],
   "source": [
    "import numpy as np\n",
    "import pandas as pd\n",
    "import statsmodels.api as sm\n",
    "import matplotlib.pyplot as plt\n",
    "import warnings\n",
    "warnings.filterwarnings(\"ignore\")"
   ]
  },
  {
   "cell_type": "markdown",
   "metadata": {},
   "source": [
    "cross-sectional data: each data point represents different individual\n",
    "\n",
    "time-series:each data represents data point at time\n",
    "\n"
   ]
  },
  {
   "cell_type": "code",
   "execution_count": 2,
   "metadata": {},
   "outputs": [
    {
     "data": {
      "text/html": [
       "<div>\n",
       "<style scoped>\n",
       "    .dataframe tbody tr th:only-of-type {\n",
       "        vertical-align: middle;\n",
       "    }\n",
       "\n",
       "    .dataframe tbody tr th {\n",
       "        vertical-align: top;\n",
       "    }\n",
       "\n",
       "    .dataframe thead th {\n",
       "        text-align: right;\n",
       "    }\n",
       "</style>\n",
       "<table border=\"1\" class=\"dataframe\">\n",
       "  <thead>\n",
       "    <tr style=\"text-align: right;\">\n",
       "      <th></th>\n",
       "      <th>date</th>\n",
       "      <th>Temperature</th>\n",
       "      <th>Humidity</th>\n",
       "      <th>Light</th>\n",
       "      <th>CO2</th>\n",
       "      <th>HumidityRatio</th>\n",
       "      <th>Occupancy</th>\n",
       "    </tr>\n",
       "  </thead>\n",
       "  <tbody>\n",
       "    <tr>\n",
       "      <th>0</th>\n",
       "      <td>2/2/2015 14:00</td>\n",
       "      <td>23.7000</td>\n",
       "      <td>26.272</td>\n",
       "      <td>585.200000</td>\n",
       "      <td>749.200000</td>\n",
       "      <td>0.004764</td>\n",
       "      <td>1</td>\n",
       "    </tr>\n",
       "    <tr>\n",
       "      <th>1</th>\n",
       "      <td>2/2/2015 15:00</td>\n",
       "      <td>23.7180</td>\n",
       "      <td>26.290</td>\n",
       "      <td>578.400000</td>\n",
       "      <td>760.400000</td>\n",
       "      <td>0.004773</td>\n",
       "      <td>1</td>\n",
       "    </tr>\n",
       "    <tr>\n",
       "      <th>2</th>\n",
       "      <td>2/2/2015 16:00</td>\n",
       "      <td>23.7300</td>\n",
       "      <td>26.230</td>\n",
       "      <td>572.666667</td>\n",
       "      <td>769.666667</td>\n",
       "      <td>0.004765</td>\n",
       "      <td>1</td>\n",
       "    </tr>\n",
       "    <tr>\n",
       "      <th>3</th>\n",
       "      <td>2/2/2015 17:00</td>\n",
       "      <td>23.7225</td>\n",
       "      <td>26.125</td>\n",
       "      <td>493.750000</td>\n",
       "      <td>774.750000</td>\n",
       "      <td>0.004744</td>\n",
       "      <td>1</td>\n",
       "    </tr>\n",
       "    <tr>\n",
       "      <th>4</th>\n",
       "      <td>2/2/2015 18:00</td>\n",
       "      <td>23.7540</td>\n",
       "      <td>26.200</td>\n",
       "      <td>488.600000</td>\n",
       "      <td>779.000000</td>\n",
       "      <td>0.004767</td>\n",
       "      <td>1</td>\n",
       "    </tr>\n",
       "  </tbody>\n",
       "</table>\n",
       "</div>"
      ],
      "text/plain": [
       "             date  Temperature  Humidity       Light         CO2  \\\n",
       "0  2/2/2015 14:00      23.7000    26.272  585.200000  749.200000   \n",
       "1  2/2/2015 15:00      23.7180    26.290  578.400000  760.400000   \n",
       "2  2/2/2015 16:00      23.7300    26.230  572.666667  769.666667   \n",
       "3  2/2/2015 17:00      23.7225    26.125  493.750000  774.750000   \n",
       "4  2/2/2015 18:00      23.7540    26.200  488.600000  779.000000   \n",
       "\n",
       "   HumidityRatio  Occupancy  \n",
       "0       0.004764          1  \n",
       "1       0.004773          1  \n",
       "2       0.004765          1  \n",
       "3       0.004744          1  \n",
       "4       0.004767          1  "
      ]
     },
     "execution_count": 2,
     "metadata": {},
     "output_type": "execute_result"
    }
   ],
   "source": [
    "df = pd.read_csv('https://s3-eu-west-1.amazonaws.com/ih-materials/uploads/data-static/data/module-2/occupancy.csv')\n",
    "df.head()"
   ]
  },
  {
   "cell_type": "code",
   "execution_count": 5,
   "metadata": {},
   "outputs": [
    {
     "data": {
      "text/plain": [
       "0        2/2/2015 14:00\n",
       "1        2/2/2015 15:00\n",
       "2        2/2/2015 16:00\n",
       "3        2/2/2015 17:00\n",
       "4        2/2/2015 18:00\n",
       "             ...       \n",
       "2659     5/24/2015 9:00\n",
       "2660    5/24/2015 10:00\n",
       "2661    5/24/2015 11:00\n",
       "2662    5/24/2015 12:00\n",
       "2663    5/24/2015 13:00\n",
       "Name: date, Length: 2664, dtype: object"
      ]
     },
     "execution_count": 5,
     "metadata": {},
     "output_type": "execute_result"
    }
   ],
   "source": [
    "df['date']"
   ]
  },
  {
   "cell_type": "markdown",
   "metadata": {},
   "source": [
    "### Declaring the date variable as a datetime object"
   ]
  },
  {
   "cell_type": "code",
   "execution_count": 6,
   "metadata": {},
   "outputs": [
    {
     "data": {
      "text/plain": [
       "0      2015-02-02 14:00:00\n",
       "1      2015-02-02 15:00:00\n",
       "2      2015-02-02 16:00:00\n",
       "3      2015-02-02 17:00:00\n",
       "4      2015-02-02 18:00:00\n",
       "               ...        \n",
       "2659   2015-05-24 09:00:00\n",
       "2660   2015-05-24 10:00:00\n",
       "2661   2015-05-24 11:00:00\n",
       "2662   2015-05-24 12:00:00\n",
       "2663   2015-05-24 13:00:00\n",
       "Name: date, Length: 2664, dtype: datetime64[ns]"
      ]
     },
     "execution_count": 6,
     "metadata": {},
     "output_type": "execute_result"
    }
   ],
   "source": [
    "df['date'] = pd.to_datetime(df['date'])\n",
    "df['date']"
   ]
  },
  {
   "cell_type": "code",
   "execution_count": 7,
   "metadata": {},
   "outputs": [
    {
     "name": "stdout",
     "output_type": "stream",
     "text": [
      "2015-07-04 00:00:00\n",
      "2001-11-09 00:00:00\n",
      "2019-02-02 15:32:00\n"
     ]
    }
   ],
   "source": [
    "print(pd.to_datetime(\"4th of July, 2015\"))\n",
    "print(pd.to_datetime(\"Nov 9 2001\"))\n",
    "print(pd.to_datetime(\"February 2nd 2019 15:32\"))"
   ]
  },
  {
   "cell_type": "markdown",
   "metadata": {},
   "source": [
    "Formatting options for datetime objects: https://strftime.org/"
   ]
  },
  {
   "cell_type": "code",
   "execution_count": 9,
   "metadata": {},
   "outputs": [
    {
     "name": "stdout",
     "output_type": "stream",
     "text": [
      "February\n",
      "Sat Feb  2 15:32:00 2019\n"
     ]
    }
   ],
   "source": [
    "print(pd.to_datetime(\"February 2nd 2019 15:32\").strftime('%B')) #only month\n",
    "print(pd.to_datetime(\"February 2nd 2019 15:32\").strftime('%c')) #locale`s appropriate date and time representation"
   ]
  },
  {
   "cell_type": "markdown",
   "metadata": {},
   "source": [
    "### Setting a time index"
   ]
  },
  {
   "cell_type": "code",
   "execution_count": 11,
   "metadata": {},
   "outputs": [
    {
     "data": {
      "text/plain": [
       "[<matplotlib.lines.Line2D at 0x12c5f700>]"
      ]
     },
     "execution_count": 11,
     "metadata": {},
     "output_type": "execute_result"
    },
    {
     "data": {
      "image/png": "[encoded data removed]",
      "text/plain": [
       "<Figure size 432x288 with 1 Axes>"
      ]
     },
     "metadata": {
      "needs_background": "light"
     },
     "output_type": "display_data"
    }
   ],
   "source": [
    "# Without the date index\n",
    "# resizing all of the plots: \n",
    "# plt.rcParams['figure.figsize'] = (12, 6)\n",
    "plt.plot(df['Humidity'])"
   ]
  },
  {
   "cell_type": "code",
   "execution_count": 12,
   "metadata": {},
   "outputs": [
    {
     "data": {
      "text/plain": [
       "DatetimeIndex(['2015-02-02 14:00:00', '2015-02-02 15:00:00',\n",
       "               '2015-02-02 16:00:00', '2015-02-02 17:00:00',\n",
       "               '2015-02-02 18:00:00', '2015-02-02 19:00:00',\n",
       "               '2015-02-02 20:00:00', '2015-02-02 21:00:00',\n",
       "               '2015-02-02 22:00:00', '2015-02-02 23:00:00',\n",
       "               ...\n",
       "               '2015-05-24 04:00:00', '2015-05-24 05:00:00',\n",
       "               '2015-05-24 06:00:00', '2015-05-24 07:00:00',\n",
       "               '2015-05-24 08:00:00', '2015-05-24 09:00:00',\n",
       "               '2015-05-24 10:00:00', '2015-05-24 11:00:00',\n",
       "               '2015-05-24 12:00:00', '2015-05-24 13:00:00'],\n",
       "              dtype='datetime64[ns]', name='date', length=2664, freq='H')"
      ]
     },
     "execution_count": 12,
     "metadata": {},
     "output_type": "execute_result"
    }
   ],
   "source": [
    "df.index = pd.DatetimeIndex(df['date'], freq='H') #defining date as index and our data is hourly\n",
    "df.index"
   ]
  },
  {
   "cell_type": "code",
   "execution_count": 27,
   "metadata": {},
   "outputs": [
    {
     "data": {
      "image/png": "[encoded data removed]",
      "text/plain": [
       "<Figure size 1080x432 with 1 Axes>"
      ]
     },
     "metadata": {
      "needs_background": "light"
     },
     "output_type": "display_data"
    }
   ],
   "source": [
    "plt.rcParams[\"figure.figsize\"] = (15,6) #default figsize index for the rest of the plots\n",
    "plt.plot(df['Humidity'])\n",
    "plt.show()\n",
    "#datetime yaptigin icin 15 günlük aralar ile gösteriyor eger object olsaydi categorical variable olarak görebilirdi"
   ]
  },
  {
   "cell_type": "markdown",
   "metadata": {},
   "source": [
    "### Changing the frequency of the data (Resampling)"
   ]
  },
  {
   "cell_type": "code",
   "execution_count": 22,
   "metadata": {},
   "outputs": [
    {
     "data": {
      "text/plain": [
       "27.529600958376623"
      ]
     },
     "execution_count": 22,
     "metadata": {},
     "output_type": "execute_result"
    }
   ],
   "source": [
    "df[\"Humidity\"][:154].mean()"
   ]
  },
  {
   "cell_type": "code",
   "execution_count": 61,
   "metadata": {},
   "outputs": [
    {
     "data": {
      "text/plain": [
       "date\n",
       "2015-02-02    26.263571\n",
       "2015-02-03    27.136375\n",
       "2015-02-04    27.938137\n",
       "2015-02-05    28.545312\n",
       "2015-02-06    28.470931\n",
       "                ...    \n",
       "2015-05-20    25.684042\n",
       "2015-05-21    25.902774\n",
       "2015-05-22    25.495139\n",
       "2015-05-23    26.171085\n",
       "2015-05-24    25.825214\n",
       "Freq: D, Name: Humidity, Length: 112, dtype: float64"
      ]
     },
     "execution_count": 61,
     "metadata": {},
     "output_type": "execute_result"
    }
   ],
   "source": [
    "df['Humidity'].resample('D').mean() #there has to be datetime index\n",
    "#df['Humidity'].resample('W').agg([\"mean\",\"median\"]) #does it work with null data?"
   ]
  },
  {
   "cell_type": "code",
   "execution_count": 62,
   "metadata": {},
   "outputs": [
    {
     "data": {
      "text/plain": [
       "date\n",
       "2015-02-02 16:00:00    26.230000\n",
       "2015-02-02 17:00:00    26.125000\n",
       "2015-02-02 18:00:00    26.200000\n",
       "2015-02-02 19:00:00    26.260000\n",
       "2015-02-02 20:00:00    26.290000\n",
       "                         ...    \n",
       "2015-05-24 09:00:00    25.700000\n",
       "2015-05-24 10:00:00    25.736000\n",
       "2015-05-24 11:00:00    25.700000\n",
       "2015-05-24 12:00:00    25.700000\n",
       "2015-05-24 13:00:00    25.681667\n",
       "Freq: H, Name: Humidity, Length: 2662, dtype: float64"
      ]
     },
     "execution_count": 62,
     "metadata": {},
     "output_type": "execute_result"
    }
   ],
   "source": [
    "df[\"Humidity\"]"
   ]
  },
  {
   "cell_type": "code",
   "execution_count": 38,
   "metadata": {},
   "outputs": [],
   "source": [
    "a = np.nan"
   ]
  },
  {
   "cell_type": "code",
   "execution_count": 65,
   "metadata": {},
   "outputs": [
    {
     "data": {
      "text/plain": [
       "0"
      ]
     },
     "execution_count": 65,
     "metadata": {},
     "output_type": "execute_result"
    }
   ],
   "source": [
    "df[\"Humidity\"].isnull().sum()"
   ]
  },
  {
   "cell_type": "code",
   "execution_count": 42,
   "metadata": {},
   "outputs": [
    {
     "ename": "AttributeError",
     "evalue": "'float' object has no attribute 'isnan'",
     "output_type": "error",
     "traceback": [
      "\u001b[1;31m---------------------------------------------------------------------------\u001b[0m",
      "\u001b[1;31mAttributeError\u001b[0m                            Traceback (most recent call last)",
      "\u001b[1;32m<ipython-input-42-e7f7bc9aed68>\u001b[0m in \u001b[0;36m<module>\u001b[1;34m\u001b[0m\n\u001b[1;32m----> 1\u001b[1;33m \u001b[0ma\u001b[0m\u001b[1;33m.\u001b[0m\u001b[0misnan\u001b[0m\u001b[1;33m(\u001b[0m\u001b[1;33m)\u001b[0m\u001b[1;33m\u001b[0m\u001b[1;33m\u001b[0m\u001b[0m\n\u001b[0m",
      "\u001b[1;31mAttributeError\u001b[0m: 'float' object has no attribute 'isnan'"
     ]
    }
   ],
   "source": [
    "#26.26"
   ]
  },
  {
   "cell_type": "code",
   "execution_count": 111,
   "metadata": {},
   "outputs": [
    {
     "name": "stdout",
     "output_type": "stream",
     "text": [
      "Help on method resample in module pandas.core.generic:\n",
      "\n",
      "resample(rule, axis=0, closed: Union[str, NoneType] = None, label: Union[str, NoneType] = None, convention: str = 'start', kind: Union[str, NoneType] = None, loffset=None, base: int = 0, on=None, level=None) method of pandas.core.frame.DataFrame instance\n",
      "    Resample time-series data.\n",
      "    \n",
      "    Convenience method for frequency conversion and resampling of time\n",
      "    series. Object must have a datetime-like index (`DatetimeIndex`,\n",
      "    `PeriodIndex`, or `TimedeltaIndex`), or pass datetime-like values\n",
      "    to the `on` or `level` keyword.\n",
      "    \n",
      "    Parameters\n",
      "    ----------\n",
      "    rule : DateOffset, Timedelta or str\n",
      "        The offset string or object representing target conversion.\n",
      "    axis : {0 or 'index', 1 or 'columns'}, default 0\n",
      "        Which axis to use for up- or down-sampling. For `Series` this\n",
      "        will default to 0, i.e. along the rows. Must be\n",
      "        `DatetimeIndex`, `TimedeltaIndex` or `PeriodIndex`.\n",
      "    closed : {'right', 'left'}, default None\n",
      "        Which side of bin interval is closed. The default is 'left'\n",
      "        for all frequency offsets except for 'M', 'A', 'Q', 'BM',\n",
      "        'BA', 'BQ', and 'W' which all have a default of 'right'.\n",
      "    label : {'right', 'left'}, default None\n",
      "        Which bin edge label to label bucket with. The default is 'left'\n",
      "        for all frequency offsets except for 'M', 'A', 'Q', 'BM',\n",
      "        'BA', 'BQ', and 'W' which all have a default of 'right'.\n",
      "    convention : {'start', 'end', 's', 'e'}, default 'start'\n",
      "        For `PeriodIndex` only, controls whether to use the start or\n",
      "        end of `rule`.\n",
      "    kind : {'timestamp', 'period'}, optional, default None\n",
      "        Pass 'timestamp' to convert the resulting index to a\n",
      "        `DateTimeIndex` or 'period' to convert it to a `PeriodIndex`.\n",
      "        By default the input representation is retained.\n",
      "    loffset : timedelta, default None\n",
      "        Adjust the resampled time labels.\n",
      "    base : int, default 0\n",
      "        For frequencies that evenly subdivide 1 day, the \"origin\" of the\n",
      "        aggregated intervals. For example, for '5min' frequency, base could\n",
      "        range from 0 through 4. Defaults to 0.\n",
      "    on : str, optional\n",
      "        For a DataFrame, column to use instead of index for resampling.\n",
      "        Column must be datetime-like.\n",
      "    \n",
      "    level : str or int, optional\n",
      "        For a MultiIndex, level (name or number) to use for\n",
      "        resampling. `level` must be datetime-like.\n",
      "    \n",
      "    Returns\n",
      "    -------\n",
      "    Resampler object\n",
      "    \n",
      "    See Also\n",
      "    --------\n",
      "    groupby : Group by mapping, function, label, or list of labels.\n",
      "    Series.resample : Resample a Series.\n",
      "    DataFrame.resample: Resample a DataFrame.\n",
      "    \n",
      "    Notes\n",
      "    -----\n",
      "    See the `user guide\n",
      "    <https://pandas.pydata.org/pandas-docs/stable/user_guide/timeseries.html#resampling>`_\n",
      "    for more.\n",
      "    \n",
      "    To learn more about the offset strings, please see `this link\n",
      "    <https://pandas.pydata.org/pandas-docs/stable/user_guide/timeseries.html#dateoffset-objects>`__.\n",
      "    \n",
      "    Examples\n",
      "    --------\n",
      "    \n",
      "    Start by creating a series with 9 one minute timestamps.\n",
      "    \n",
      "    >>> index = pd.date_range('1/1/2000', periods=9, freq='T')\n",
      "    >>> series = pd.Series(range(9), index=index)\n",
      "    >>> series\n",
      "    2000-01-01 00:00:00    0\n",
      "    2000-01-01 00:01:00    1\n",
      "    2000-01-01 00:02:00    2\n",
      "    2000-01-01 00:03:00    3\n",
      "    2000-01-01 00:04:00    4\n",
      "    2000-01-01 00:05:00    5\n",
      "    2000-01-01 00:06:00    6\n",
      "    2000-01-01 00:07:00    7\n",
      "    2000-01-01 00:08:00    8\n",
      "    Freq: T, dtype: int64\n",
      "    \n",
      "    Downsample the series into 3 minute bins and sum the values\n",
      "    of the timestamps falling into a bin.\n",
      "    \n",
      "    >>> series.resample('3T').sum()\n",
      "    2000-01-01 00:00:00     3\n",
      "    2000-01-01 00:03:00    12\n",
      "    2000-01-01 00:06:00    21\n",
      "    Freq: 3T, dtype: int64\n",
      "    \n",
      "    Downsample the series into 3 minute bins as above, but label each\n",
      "    bin using the right edge instead of the left. Please note that the\n",
      "    value in the bucket used as the label is not included in the bucket,\n",
      "    which it labels. For example, in the original series the\n",
      "    bucket ``2000-01-01 00:03:00`` contains the value 3, but the summed\n",
      "    value in the resampled bucket with the label ``2000-01-01 00:03:00``\n",
      "    does not include 3 (if it did, the summed value would be 6, not 3).\n",
      "    To include this value close the right side of the bin interval as\n",
      "    illustrated in the example below this one.\n",
      "    \n",
      "    >>> series.resample('3T', label='right').sum()\n",
      "    2000-01-01 00:03:00     3\n",
      "    2000-01-01 00:06:00    12\n",
      "    2000-01-01 00:09:00    21\n",
      "    Freq: 3T, dtype: int64\n",
      "    \n",
      "    Downsample the series into 3 minute bins as above, but close the right\n",
      "    side of the bin interval.\n",
      "    \n",
      "    >>> series.resample('3T', label='right', closed='right').sum()\n",
      "    2000-01-01 00:00:00     0\n",
      "    2000-01-01 00:03:00     6\n",
      "    2000-01-01 00:06:00    15\n",
      "    2000-01-01 00:09:00    15\n",
      "    Freq: 3T, dtype: int64\n",
      "    \n",
      "    Upsample the series into 30 second bins.\n",
      "    \n",
      "    >>> series.resample('30S').asfreq()[0:5]   # Select first 5 rows\n",
      "    2000-01-01 00:00:00   0.0\n",
      "    2000-01-01 00:00:30   NaN\n",
      "    2000-01-01 00:01:00   1.0\n",
      "    2000-01-01 00:01:30   NaN\n",
      "    2000-01-01 00:02:00   2.0\n",
      "    Freq: 30S, dtype: float64\n",
      "    \n",
      "    Upsample the series into 30 second bins and fill the ``NaN``\n",
      "    values using the ``pad`` method.\n",
      "    \n",
      "    >>> series.resample('30S').pad()[0:5]\n",
      "    2000-01-01 00:00:00    0\n",
      "    2000-01-01 00:00:30    0\n",
      "    2000-01-01 00:01:00    1\n",
      "    2000-01-01 00:01:30    1\n",
      "    2000-01-01 00:02:00    2\n",
      "    Freq: 30S, dtype: int64\n",
      "    \n",
      "    Upsample the series into 30 second bins and fill the\n",
      "    ``NaN`` values using the ``bfill`` method.\n",
      "    \n",
      "    >>> series.resample('30S').bfill()[0:5]\n",
      "    2000-01-01 00:00:00    0\n",
      "    2000-01-01 00:00:30    1\n",
      "    2000-01-01 00:01:00    1\n",
      "    2000-01-01 00:01:30    2\n",
      "    2000-01-01 00:02:00    2\n",
      "    Freq: 30S, dtype: int64\n",
      "    \n",
      "    Pass a custom function via ``apply``\n",
      "    \n",
      "    >>> def custom_resampler(array_like):\n",
      "    ...     return np.sum(array_like) + 5\n",
      "    ...\n",
      "    >>> series.resample('3T').apply(custom_resampler)\n",
      "    2000-01-01 00:00:00     8\n",
      "    2000-01-01 00:03:00    17\n",
      "    2000-01-01 00:06:00    26\n",
      "    Freq: 3T, dtype: int64\n",
      "    \n",
      "    For a Series with a PeriodIndex, the keyword `convention` can be\n",
      "    used to control whether to use the start or end of `rule`.\n",
      "    \n",
      "    Resample a year by quarter using 'start' `convention`. Values are\n",
      "    assigned to the first quarter of the period.\n",
      "    \n",
      "    >>> s = pd.Series([1, 2], index=pd.period_range('2012-01-01',\n",
      "    ...                                             freq='A',\n",
      "    ...                                             periods=2))\n",
      "    >>> s\n",
      "    2012    1\n",
      "    2013    2\n",
      "    Freq: A-DEC, dtype: int64\n",
      "    >>> s.resample('Q', convention='start').asfreq()\n",
      "    2012Q1    1.0\n",
      "    2012Q2    NaN\n",
      "    2012Q3    NaN\n",
      "    2012Q4    NaN\n",
      "    2013Q1    2.0\n",
      "    2013Q2    NaN\n",
      "    2013Q3    NaN\n",
      "    2013Q4    NaN\n",
      "    Freq: Q-DEC, dtype: float64\n",
      "    \n",
      "    Resample quarters by month using 'end' `convention`. Values are\n",
      "    assigned to the last month of the period.\n",
      "    \n",
      "    >>> q = pd.Series([1, 2, 3, 4], index=pd.period_range('2018-01-01',\n",
      "    ...                                                   freq='Q',\n",
      "    ...                                                   periods=4))\n",
      "    >>> q\n",
      "    2018Q1    1\n",
      "    2018Q2    2\n",
      "    2018Q3    3\n",
      "    2018Q4    4\n",
      "    Freq: Q-DEC, dtype: int64\n",
      "    >>> q.resample('M', convention='end').asfreq()\n",
      "    2018-03    1.0\n",
      "    2018-04    NaN\n",
      "    2018-05    NaN\n",
      "    2018-06    2.0\n",
      "    2018-07    NaN\n",
      "    2018-08    NaN\n",
      "    2018-09    3.0\n",
      "    2018-10    NaN\n",
      "    2018-11    NaN\n",
      "    2018-12    4.0\n",
      "    Freq: M, dtype: float64\n",
      "    \n",
      "    For DataFrame objects, the keyword `on` can be used to specify the\n",
      "    column instead of the index for resampling.\n",
      "    \n",
      "    >>> d = dict({'price': [10, 11, 9, 13, 14, 18, 17, 19],\n",
      "    ...           'volume': [50, 60, 40, 100, 50, 100, 40, 50]})\n",
      "    >>> df = pd.DataFrame(d)\n",
      "    >>> df['week_starting'] = pd.date_range('01/01/2018',\n",
      "    ...                                     periods=8,\n",
      "    ...                                     freq='W')\n",
      "    >>> df\n",
      "       price  volume week_starting\n",
      "    0     10      50    2018-01-07\n",
      "    1     11      60    2018-01-14\n",
      "    2      9      40    2018-01-21\n",
      "    3     13     100    2018-01-28\n",
      "    4     14      50    2018-02-04\n",
      "    5     18     100    2018-02-11\n",
      "    6     17      40    2018-02-18\n",
      "    7     19      50    2018-02-25\n",
      "    >>> df.resample('M', on='week_starting').mean()\n",
      "                   price  volume\n",
      "    week_starting\n",
      "    2018-01-31     10.75    62.5\n",
      "    2018-02-28     17.00    60.0\n",
      "    \n",
      "    For a DataFrame with MultiIndex, the keyword `level` can be used to\n",
      "    specify on which level the resampling needs to take place.\n",
      "    \n",
      "    >>> days = pd.date_range('1/1/2000', periods=4, freq='D')\n",
      "    >>> d2 = dict({'price': [10, 11, 9, 13, 14, 18, 17, 19],\n",
      "    ...            'volume': [50, 60, 40, 100, 50, 100, 40, 50]})\n",
      "    >>> df2 = pd.DataFrame(d2,\n",
      "    ...                    index=pd.MultiIndex.from_product([days,\n",
      "    ...                                                     ['morning',\n",
      "    ...                                                      'afternoon']]\n",
      "    ...                                                     ))\n",
      "    >>> df2\n",
      "                          price  volume\n",
      "    2000-01-01 morning       10      50\n",
      "               afternoon     11      60\n",
      "    2000-01-02 morning        9      40\n",
      "               afternoon     13     100\n",
      "    2000-01-03 morning       14      50\n",
      "               afternoon     18     100\n",
      "    2000-01-04 morning       17      40\n",
      "               afternoon     19      50\n",
      "    >>> df2.resample('D', level=0).sum()\n",
      "                price  volume\n",
      "    2000-01-01     21     110\n",
      "    2000-01-02     22     140\n",
      "    2000-01-03     32     150\n",
      "    2000-01-04     36      90\n",
      "\n"
     ]
    }
   ],
   "source": [
    "help(df.resample)"
   ]
  },
  {
   "cell_type": "markdown",
   "metadata": {},
   "source": [
    "Options for resampling frequency:\n",
    "    \n",
    "- B       business day frequency\n",
    "- C       custom business day frequency (experimental)\n",
    "- D       calendar day frequency\n",
    "- W       weekly frequency\n",
    "- M       month end frequency\n",
    "- SM      semi-month end frequency (15th and end of month)\n",
    "- Q       quarter end frequency\n",
    "- A       year end frequency\n",
    "- H       hourly frequency\n",
    "- T       minutely frequency\n",
    "- S       secondly frequency\n",
    "- L       milliseonds\n",
    "- U       microseconds\n",
    "- N       nanoseconds\n",
    "- and more!"
   ]
  },
  {
   "cell_type": "code",
   "execution_count": 45,
   "metadata": {},
   "outputs": [
    {
     "data": {
      "text/plain": [
       "date\n",
       "2015-02-28    24.368549\n",
       "2015-03-31    24.325819\n",
       "2015-04-30    27.677441\n",
       "2015-05-31    24.842351\n",
       "Freq: M, Name: Humidity, dtype: float64"
      ]
     },
     "execution_count": 45,
     "metadata": {},
     "output_type": "execute_result"
    }
   ],
   "source": [
    "df['Humidity'].resample('M').mean()"
   ]
  },
  {
   "cell_type": "markdown",
   "metadata": {},
   "source": [
    "## First Differencing your data"
   ]
  },
  {
   "cell_type": "code",
   "execution_count": 44,
   "metadata": {},
   "outputs": [
    {
     "name": "stdout",
     "output_type": "stream",
     "text": [
      "                                   date  Temperature   Humidity       Light  \\\n",
      "date                                                                          \n",
      "2015-02-02 15:00:00 2015-02-02 15:00:00    23.718000  26.290000  578.400000   \n",
      "2015-02-02 16:00:00 2015-02-02 16:00:00    23.730000  26.230000  572.666667   \n",
      "2015-02-02 17:00:00 2015-02-02 17:00:00    23.722500  26.125000  493.750000   \n",
      "2015-02-02 18:00:00 2015-02-02 18:00:00    23.754000  26.200000  488.600000   \n",
      "2015-02-02 19:00:00 2015-02-02 19:00:00    23.760000  26.260000  568.666667   \n",
      "...                                 ...          ...        ...         ...   \n",
      "2015-05-24 09:00:00 2015-05-24 09:00:00    24.290000  25.700000  808.000000   \n",
      "2015-05-24 10:00:00 2015-05-24 10:00:00    24.330000  25.736000  809.800000   \n",
      "2015-05-24 11:00:00 2015-05-24 11:00:00    24.330000  25.700000  817.000000   \n",
      "2015-05-24 12:00:00 2015-05-24 12:00:00    24.356667  25.700000  813.000000   \n",
      "2015-05-24 13:00:00 2015-05-24 13:00:00    24.408333  25.681667  798.000000   \n",
      "\n",
      "                             CO2  HumidityRatio  Occupancy  Humidity_diff  \n",
      "date                                                                       \n",
      "2015-02-02 15:00:00   760.400000       0.004773          1            NaN  \n",
      "2015-02-02 16:00:00   769.666667       0.004765          1      -0.060000  \n",
      "2015-02-02 17:00:00   774.750000       0.004744          1      -0.105000  \n",
      "2015-02-02 18:00:00   779.000000       0.004767          1       0.075000  \n",
      "2015-02-02 19:00:00   790.000000       0.004779          1       0.060000  \n",
      "...                          ...            ...        ...            ...  \n",
      "2015-05-24 09:00:00  1150.250000       0.004829          1      -0.152000  \n",
      "2015-05-24 10:00:00  1129.200000       0.004848          1       0.036000  \n",
      "2015-05-24 11:00:00  1125.800000       0.004841          1      -0.036000  \n",
      "2015-05-24 12:00:00  1123.000000       0.004849          1       0.000000  \n",
      "2015-05-24 13:00:00  1124.000000       0.004860          1      -0.018333  \n",
      "\n",
      "[2663 rows x 8 columns]\n"
     ]
    }
   ],
   "source": [
    "df['Humidity_diff'] = df['Humidity'].diff() #bir önceki entryden ne kadar degistigini gösterir df[\"humidity\"][x] - df[\"humidity\"][x-1]\n",
    "print(df)\n",
    "df.dropna(inplace = True)"
   ]
  },
  {
   "cell_type": "markdown",
   "metadata": {},
   "source": [
    "## Decomposing Time Series data"
   ]
  },
  {
   "cell_type": "code",
   "execution_count": 129,
   "metadata": {},
   "outputs": [
    {
     "data": {
      "image/png": "[encoded data removed]",
      "text/plain": [
       "<Figure size 864x432 with 4 Axes>"
      ]
     },
     "metadata": {
      "needs_background": "light"
     },
     "output_type": "display_data"
    }
   ],
   "source": [
    "dec = sm.tsa.seasonal_decompose(df['Humidity'])\n",
    "#residual:unexplained variation (surprise)\n",
    "#seasonal:help you adjust seasonal, seasonality is daily for instance here nem durumu\n",
    "#trend:business doing now then the last year,comparing may2020 to may19, taking out seasonal effect observing the business\n",
    "#predicted value: trend+seasonality\n",
    "dec.plot()\n",
    "plt.show()"
   ]
  },
  {
   "cell_type": "markdown",
   "metadata": {},
   "source": [
    "## Checking for autocorrelation"
   ]
  },
  {
   "cell_type": "code",
   "execution_count": 49,
   "metadata": {},
   "outputs": [
    {
     "data": {
      "text/plain": [
       "0.999736662875352"
      ]
     },
     "execution_count": 49,
     "metadata": {},
     "output_type": "execute_result"
    }
   ],
   "source": [
    "df['Humidity'].autocorr() #the correlation of time series as time t with itself at time t-1\n",
    "# between -1 and 1, autocorr 0.9 timeseries value todays influence the other one positively or incrementality artan bir sekilde\n",
    "\n",
    "#lag1: t and t-1\n",
    "#lag2: t and t-2"
   ]
  },
  {
   "cell_type": "code",
   "execution_count": 48,
   "metadata": {},
   "outputs": [
    {
     "name": "stdout",
     "output_type": "stream",
     "text": [
      "Help on function autocorr in module pandas.core.series:\n",
      "\n",
      "autocorr(self, lag=1) -> float\n",
      "    Compute the lag-N autocorrelation.\n",
      "    \n",
      "    This method computes the Pearson correlation between\n",
      "    the Series and its shifted self.\n",
      "    \n",
      "    Parameters\n",
      "    ----------\n",
      "    lag : int, default 1\n",
      "        Number of lags to apply before performing autocorrelation.\n",
      "    \n",
      "    Returns\n",
      "    -------\n",
      "    float\n",
      "        The Pearson correlation between self and self.shift(lag).\n",
      "    \n",
      "    See Also\n",
      "    --------\n",
      "    Series.corr : Compute the correlation between two Series.\n",
      "    Series.shift : Shift index by desired number of periods.\n",
      "    DataFrame.corr : Compute pairwise correlation of columns.\n",
      "    DataFrame.corrwith : Compute pairwise correlation between rows or\n",
      "        columns of two DataFrame objects.\n",
      "    \n",
      "    Notes\n",
      "    -----\n",
      "    If the Pearson correlation is not well defined return 'NaN'.\n",
      "    \n",
      "    Examples\n",
      "    --------\n",
      "    >>> s = pd.Series([0.25, 0.5, 0.2, -0.05])\n",
      "    >>> s.autocorr()  # doctest: +ELLIPSIS\n",
      "    0.10355...\n",
      "    >>> s.autocorr(lag=2)  # doctest: +ELLIPSIS\n",
      "    -0.99999...\n",
      "    \n",
      "    If the Pearson correlation is not well defined, then 'NaN' is returned.\n",
      "    \n",
      "    >>> s = pd.Series([1, 0, 0, 0])\n",
      "    >>> s.autocorr()\n",
      "    nan\n",
      "\n"
     ]
    }
   ],
   "source": [
    "help(pd.Series.autocorr)"
   ]
  },
  {
   "cell_type": "code",
   "execution_count": 51,
   "metadata": {},
   "outputs": [
    {
     "data": {
      "text/plain": [
       "<AxesSubplot:xlabel='y(t)', ylabel='y(t + 1)'>"
      ]
     },
     "execution_count": 51,
     "metadata": {},
     "output_type": "execute_result"
    },
    {
     "data": {
      "image/png": "[encoded data removed]",
      "text/plain": [
       "<Figure size 1080x432 with 1 Axes>"
      ]
     },
     "metadata": {
      "needs_background": "light"
     },
     "output_type": "display_data"
    }
   ],
   "source": [
    "from pandas.plotting import lag_plot\n",
    "lag_plot(df['Humidity'])"
   ]
  },
  {
   "cell_type": "code",
   "execution_count": 52,
   "metadata": {},
   "outputs": [
    {
     "data": {
      "image/png": "[encoded data removed]",
      "text/plain": [
       "<Figure size 1080x432 with 1 Axes>"
      ]
     },
     "metadata": {
      "needs_background": "light"
     },
     "output_type": "display_data"
    }
   ],
   "source": [
    "# Autocorrelation Plot\n",
    "\n",
    "plt.acorr(df['Humidity'], maxlags = 5)\n",
    "#lag0: means correlation of x_t and x_t so it is 1\n",
    "#heatmap of autocorrelation\n",
    "plt.title(\"Autocorrelation Plot for Humidity\")\n",
    "\n",
    "#the autocorrelation is very high regardless of t here, it is easy to forecast because of the correlation between today and yesterday\n",
    "  \n",
    "plt.show()  "
   ]
  },
  {
   "cell_type": "markdown",
   "metadata": {},
   "source": [
    "## Applying Time Series models"
   ]
  },
  {
   "cell_type": "code",
   "execution_count": 70,
   "metadata": {},
   "outputs": [
    {
     "name": "stderr",
     "output_type": "stream",
     "text": [
      "C:\\Users\\cnr\\.conda\\envs\\kittycat\\lib\\site-packages\\statsmodels\\tsa\\ar_model.py:248: FutureWarning: The parameter names will change after 0.12 is released. Set old_names to False to use the new names now. Set old_names to True to use the old names. \n",
      "  warnings.warn(\n"
     ]
    },
    {
     "data": {
      "text/html": [
       "<table class=\"simpletable\">\n",
       "<caption>AutoReg Model Results</caption>\n",
       "<tr>\n",
       "  <th>Dep. Variable:</th>     <td>Humidity</td>     <th>  No. Observations:  </th>   <td>2662</td>  \n",
       "</tr>\n",
       "<tr>\n",
       "  <th>Model:</th>            <td>AutoReg(1)</td>    <th>  Log Likelihood     </th> <td>3896.428</td>\n",
       "</tr>\n",
       "<tr>\n",
       "  <th>Method:</th>         <td>Conditional MLE</td> <th>  S.D. of innovations</th>   <td>0.056</td> \n",
       "</tr>\n",
       "<tr>\n",
       "  <th>Date:</th>          <td>Thu, 26 Nov 2020</td> <th>  AIC                </th>  <td>-5.764</td> \n",
       "</tr>\n",
       "<tr>\n",
       "  <th>Time:</th>              <td>18:40:45</td>     <th>  BIC                </th>  <td>-5.758</td> \n",
       "</tr>\n",
       "<tr>\n",
       "  <th>Sample:</th>           <td>02-02-2015</td>    <th>  HQIC               </th>  <td>-5.762</td> \n",
       "</tr>\n",
       "<tr>\n",
       "  <th></th>                 <td>- 05-24-2015</td>   <th>                     </th>     <td> </td>   \n",
       "</tr>\n",
       "</table>\n",
       "<table class=\"simpletable\">\n",
       "<tr>\n",
       "       <td></td>          <th>coef</th>     <th>std err</th>      <th>z</th>      <th>P>|z|</th>  <th>[0.025</th>    <th>0.975]</th>  \n",
       "</tr>\n",
       "<tr>\n",
       "  <th>intercept</th>   <td>    0.0070</td> <td>    0.011</td> <td>    0.618</td> <td> 0.537</td> <td>   -0.015</td> <td>    0.029</td>\n",
       "</tr>\n",
       "<tr>\n",
       "  <th>Humidity.L1</th> <td>    0.9997</td> <td>    0.000</td> <td> 2246.591</td> <td> 0.000</td> <td>    0.999</td> <td>    1.001</td>\n",
       "</tr>\n",
       "</table>\n",
       "<table class=\"simpletable\">\n",
       "<caption>Roots</caption>\n",
       "<tr>\n",
       "    <td></td>   <th>            Real</th>  <th>         Imaginary</th> <th>         Modulus</th>  <th>        Frequency</th>\n",
       "</tr>\n",
       "<tr>\n",
       "  <th>AR.1</th> <td>           1.0003</td> <td>          +0.0000j</td> <td>           1.0003</td> <td>           0.0000</td>\n",
       "</tr>\n",
       "</table>"
      ],
      "text/plain": [
       "<class 'statsmodels.iolib.summary.Summary'>\n",
       "\"\"\"\n",
       "                            AutoReg Model Results                             \n",
       "==============================================================================\n",
       "Dep. Variable:               Humidity   No. Observations:                 2662\n",
       "Model:                     AutoReg(1)   Log Likelihood                3896.428\n",
       "Method:               Conditional MLE   S.D. of innovations              0.056\n",
       "Date:                Thu, 26 Nov 2020   AIC                             -5.764\n",
       "Time:                        18:40:45   BIC                             -5.758\n",
       "Sample:                    02-02-2015   HQIC                            -5.762\n",
       "                         - 05-24-2015                                         \n",
       "===============================================================================\n",
       "                  coef    std err          z      P>|z|      [0.025      0.975]\n",
       "-------------------------------------------------------------------------------\n",
       "intercept       0.0070      0.011      0.618      0.537      -0.015       0.029\n",
       "Humidity.L1     0.9997      0.000   2246.591      0.000       0.999       1.001\n",
       "                                    Roots                                    \n",
       "=============================================================================\n",
       "                  Real          Imaginary           Modulus         Frequency\n",
       "-----------------------------------------------------------------------------\n",
       "AR.1            1.0003           +0.0000j            1.0003            0.0000\n",
       "-----------------------------------------------------------------------------\n",
       "\"\"\""
      ]
     },
     "execution_count": 70,
     "metadata": {},
     "output_type": "execute_result"
    }
   ],
   "source": [
    "#yt-1 ile yt yi tahmin edebiliriz\n",
    "#yt ile yt+1 i tahmin edebiliriz\n",
    "# bunu yapmamizin amacida prediction yapmak\n",
    "#AR1-lags1\n",
    "#AR2-lags2\n",
    "from statsmodels.tsa.ar_model import AutoReg\n",
    "model = AutoReg(df['Humidity'], lags = 1).fit() #lags arttikca prediction gücü azalacaktir. lags=10 yaptiginda p value cok cikacak mesela, insignificant olacak\n",
    "model.summary()"
   ]
  },
  {
   "cell_type": "code",
   "execution_count": 119,
   "metadata": {},
   "outputs": [
    {
     "name": "stdout",
     "output_type": "stream",
     "text": [
      "Help on class AutoReg in module statsmodels.tsa.ar_model:\n",
      "\n",
      "class AutoReg(statsmodels.tsa.base.tsa_model.TimeSeriesModel)\n",
      " |  AutoReg(endog, lags, trend='c', seasonal=False, exog=None, hold_back=None, period=None, missing='none')\n",
      " |  \n",
      " |  Autoregressive AR-X(p) model.\n",
      " |  \n",
      " |  Estimate an AR-X model using Conditional Maximum Likelihood (OLS).\n",
      " |  \n",
      " |  Parameters\n",
      " |  ----------\n",
      " |  endog : array_like\n",
      " |      A 1-d endogenous response variable. The independent variable.\n",
      " |  lags : {int, list[int]}\n",
      " |      The number of lags to include in the model if an integer or the\n",
      " |      list of lag indices to include.  For example, [1, 4] will only\n",
      " |      include lags 1 and 4 while lags=4 will include lags 1, 2, 3, and 4.\n",
      " |  trend : {'n', 'c', 't', 'ct'}\n",
      " |      The trend to include in the model:\n",
      " |  \n",
      " |      * 'n' - No trend.\n",
      " |      * 'c' - Constant only.\n",
      " |      * 't' - Time trend only.\n",
      " |      * 'ct' - Constant and time trend.\n",
      " |  \n",
      " |  seasonal : bool\n",
      " |      Flag indicating whether to include seasonal dummies in the model. If\n",
      " |      seasonal is True and trend includes 'c', then the first period\n",
      " |      is excluded from the seasonal terms.\n",
      " |  exog : array_like, optional\n",
      " |      Exogenous variables to include in the model. Must have the same number\n",
      " |      of observations as endog and should be aligned so that endog[i] is\n",
      " |      regressed on exog[i].\n",
      " |  hold_back : {None, int}\n",
      " |      Initial observations to exclude from the estimation sample.  If None,\n",
      " |      then hold_back is equal to the maximum lag in the model.  Set to a\n",
      " |      non-zero value to produce comparable models with different lag\n",
      " |      length.  For example, to compare the fit of a model with lags=3 and\n",
      " |      lags=1, set hold_back=3 which ensures that both models are estimated\n",
      " |      using observations 3,...,nobs. hold_back must be >= the maximum lag in\n",
      " |      the model.\n",
      " |  period : {None, int}\n",
      " |      The period of the data. Only used if seasonal is True. This parameter\n",
      " |      can be omitted if using a pandas object for endog that contains a\n",
      " |      recognized frequency.\n",
      " |  missing : str\n",
      " |      Available options are 'none', 'drop', and 'raise'. If 'none', no nan\n",
      " |      checking is done. If 'drop', any observations with nans are dropped.\n",
      " |      If 'raise', an error is raised. Default is 'none'.\n",
      " |  \n",
      " |  See Also\n",
      " |  --------\n",
      " |  statsmodels.tsa.statespace.sarimax.SARIMAX\n",
      " |      Estimation of SARIMAX models using exact likelihood and the\n",
      " |      Kalman Filter.\n",
      " |  \n",
      " |  Examples\n",
      " |  --------\n",
      " |  >>> import statsmodels.api as sm\n",
      " |  >>> from statsmodels.tsa.ar_model import AutoReg\n",
      " |  >>> data = sm.datasets.sunspots.load_pandas().data['SUNACTIVITY']\n",
      " |  >>> out = 'AIC: {0:0.3f}, HQIC: {1:0.3f}, BIC: {2:0.3f}'\n",
      " |  \n",
      " |  Start by fitting an unrestricted Seasonal AR model\n",
      " |  \n",
      " |  >>> res = AutoReg(data, lags = [1, 11, 12]).fit()\n",
      " |  >>> print(out.format(res.aic, res.hqic, res.bic))\n",
      " |  AIC: 5.945, HQIC: 5.970, BIC: 6.007\n",
      " |  \n",
      " |  An alternative used seasonal dummies\n",
      " |  \n",
      " |  >>> res = AutoReg(data, lags=1, seasonal=True, period=11).fit()\n",
      " |  >>> print(out.format(res.aic, res.hqic, res.bic))\n",
      " |  AIC: 6.017, HQIC: 6.080, BIC: 6.175\n",
      " |  \n",
      " |  Finally, both the seasonal AR structure and dummies can be included\n",
      " |  \n",
      " |  >>> res = AutoReg(data, lags=[1, 11, 12], seasonal=True, period=11).fit()\n",
      " |  >>> print(out.format(res.aic, res.hqic, res.bic))\n",
      " |  AIC: 5.884, HQIC: 5.959, BIC: 6.071\n",
      " |  \n",
      " |  Method resolution order:\n",
      " |      AutoReg\n",
      " |      statsmodels.tsa.base.tsa_model.TimeSeriesModel\n",
      " |      statsmodels.base.model.LikelihoodModel\n",
      " |      statsmodels.base.model.Model\n",
      " |      builtins.object\n",
      " |  \n",
      " |  Methods defined here:\n",
      " |  \n",
      " |  __init__(self, endog, lags, trend='c', seasonal=False, exog=None, hold_back=None, period=None, missing='none')\n",
      " |      Initialize self.  See help(type(self)) for accurate signature.\n",
      " |  \n",
      " |  fit(self, cov_type='nonrobust', cov_kwds=None, use_t=False)\n",
      " |      Estimate the model parameters.\n",
      " |      \n",
      " |      Parameters\n",
      " |      ----------\n",
      " |      cov_type : str\n",
      " |          The covariance estimator to use. The most common choices are listed\n",
      " |          below.  Supports all covariance estimators that are available\n",
      " |          in ``OLS.fit``.\n",
      " |      \n",
      " |          * 'nonrobust' - The class OLS covariance estimator that assumes\n",
      " |            homoskedasticity.\n",
      " |          * 'HC0', 'HC1', 'HC2', 'HC3' - Variants of White's\n",
      " |            (or Eiker-Huber-White) covariance estimator. `HC0` is the\n",
      " |            standard implementation.  The other make corrections to improve\n",
      " |            the finite sample performance of the heteroskedasticity robust\n",
      " |            covariance estimator.\n",
      " |          * 'HAC' - Heteroskedasticity-autocorrelation robust covariance\n",
      " |            estimation. Supports cov_kwds.\n",
      " |      \n",
      " |            - `maxlag` integer (required) : number of lags to use.\n",
      " |            - `kernel` callable or str (optional) : kernel\n",
      " |                currently available kernels are ['bartlett', 'uniform'],\n",
      " |                default is Bartlett.\n",
      " |            - `use_correction` bool (optional) : If true, use small sample\n",
      " |                correction.\n",
      " |      cov_kwds : dict, optional\n",
      " |          A dictionary of keyword arguments to pass to the covariance\n",
      " |          estimator. `nonrobust` and `HC#` do not support cov_kwds.\n",
      " |      use_t : bool, optional\n",
      " |          A flag indicating that inference should use the Student's t\n",
      " |          distribution that accounts for model degree of freedom.  If False,\n",
      " |          uses the normal distribution. If None, defers the choice to\n",
      " |          the cov_type. It also removes degree of freedom corrections from\n",
      " |          the covariance estimator when cov_type is 'nonrobust'.\n",
      " |      \n",
      " |      Returns\n",
      " |      -------\n",
      " |      AutoRegResults\n",
      " |          Estimation results.\n",
      " |      \n",
      " |      See Also\n",
      " |      --------\n",
      " |      statsmodels.regression.linear_model.OLS\n",
      " |          Ordinary Least Squares estimation.\n",
      " |      statsmodels.regression.linear_model.RegressionResults\n",
      " |          See ``get_robustcov_results`` for a detailed list of available\n",
      " |          covariance estimators and options.\n",
      " |      \n",
      " |      Notes\n",
      " |      -----\n",
      " |      Use ``OLS`` to estimate model parameters and to estimate parameter\n",
      " |      covariance.\n",
      " |  \n",
      " |  hessian(self, params)\n",
      " |      The Hessian matrix of the model.\n",
      " |      \n",
      " |      Parameters\n",
      " |      ----------\n",
      " |      params : ndarray\n",
      " |          The parameters to use when evaluating the Hessian.\n",
      " |      \n",
      " |      Returns\n",
      " |      -------\n",
      " |      ndarray\n",
      " |          The hessian evaluated at the parameters.\n",
      " |  \n",
      " |  information(self, params)\n",
      " |      Fisher information matrix of model.\n",
      " |      \n",
      " |      Returns -1 * Hessian of the log-likelihood evaluated at params.\n",
      " |      \n",
      " |      Parameters\n",
      " |      ----------\n",
      " |      params : ndarray\n",
      " |          The model parameters.\n",
      " |      \n",
      " |      Returns\n",
      " |      -------\n",
      " |      ndarray\n",
      " |          The information matrix.\n",
      " |  \n",
      " |  initialize(self)\n",
      " |      Initialize the model (no-op).\n",
      " |  \n",
      " |  loglike(self, params)\n",
      " |      Log-likelihood of model.\n",
      " |      \n",
      " |      Parameters\n",
      " |      ----------\n",
      " |      params : ndarray\n",
      " |          The model parameters used to compute the log-likelihood.\n",
      " |      \n",
      " |      Returns\n",
      " |      -------\n",
      " |      float\n",
      " |          The log-likelihood value.\n",
      " |  \n",
      " |  predict(self, params, start=None, end=None, dynamic=False, exog=None, exog_oos=None)\n",
      " |      In-sample prediction and out-of-sample forecasting.\n",
      " |      \n",
      " |      Parameters\n",
      " |      ----------\n",
      " |      params : array_like\n",
      " |          The fitted model parameters.\n",
      " |      start : int, str, or datetime, optional\n",
      " |          Zero-indexed observation number at which to start forecasting,\n",
      " |          i.e., the first forecast is start. Can also be a date string to\n",
      " |          parse or a datetime type. Default is the the zeroth observation.\n",
      " |      end : int, str, or datetime, optional\n",
      " |          Zero-indexed observation number at which to end forecasting, i.e.,\n",
      " |          the last forecast is end. Can also be a date string to\n",
      " |          parse or a datetime type. However, if the dates index does not\n",
      " |          have a fixed frequency, end must be an integer index if you\n",
      " |          want out-of-sample prediction. Default is the last observation in\n",
      " |          the sample. Unlike standard python slices, end is inclusive so\n",
      " |          that all the predictions [start, start+1, ..., end-1, end] are\n",
      " |          returned.\n",
      " |      dynamic : {bool, int, str, datetime, Timestamp}, optional\n",
      " |          Integer offset relative to `start` at which to begin dynamic\n",
      " |          prediction. Prior to this observation, true endogenous values\n",
      " |          will be used for prediction; starting with this observation and\n",
      " |          continuing through the end of prediction, forecasted endogenous\n",
      " |          values will be used instead. Datetime-like objects are not\n",
      " |          interpreted as offsets. They are instead used to find the index\n",
      " |          location of `dynamic` which is then used to to compute the offset.\n",
      " |      exog : array_like\n",
      " |          A replacement exogenous array.  Must have the same shape as the\n",
      " |          exogenous data array used when the model was created.\n",
      " |      exog_oos : array_like\n",
      " |          An array containing out-of-sample values of the exogenous variable.\n",
      " |          Must has the same number of columns as the exog used when the\n",
      " |          model was created, and at least as many rows as the number of\n",
      " |          out-of-sample forecasts.\n",
      " |      \n",
      " |      Returns\n",
      " |      -------\n",
      " |      array_like\n",
      " |          Array of out of in-sample predictions and / or out-of-sample\n",
      " |          forecasts. An (npredict x k_endog) array.\n",
      " |  \n",
      " |  score(self, params)\n",
      " |      Score vector of model.\n",
      " |      \n",
      " |      The gradient of logL with respect to each parameter.\n",
      " |      \n",
      " |      Parameters\n",
      " |      ----------\n",
      " |      params : ndarray\n",
      " |          The parameters to use when evaluating the Hessian.\n",
      " |      \n",
      " |      Returns\n",
      " |      -------\n",
      " |      ndarray\n",
      " |          The score vector evaluated at the parameters.\n",
      " |  \n",
      " |  ----------------------------------------------------------------------\n",
      " |  Readonly properties defined here:\n",
      " |  \n",
      " |  ar_lags\n",
      " |      The autoregressive lags included in the model\n",
      " |  \n",
      " |  df_model\n",
      " |      The model degrees of freedom.\n",
      " |  \n",
      " |  exog_names\n",
      " |      Names of exogenous variables included in model\n",
      " |  \n",
      " |  hold_back\n",
      " |      The number of initial obs. excluded from the estimation sample.\n",
      " |  \n",
      " |  seasonal\n",
      " |      Flag indicating that the model contains a seasonal component.\n",
      " |  \n",
      " |  ----------------------------------------------------------------------\n",
      " |  Class methods inherited from statsmodels.base.model.Model:\n",
      " |  \n",
      " |  from_formula(formula, data, subset=None, drop_cols=None, *args, **kwargs) from builtins.type\n",
      " |      Create a Model from a formula and dataframe.\n",
      " |      \n",
      " |      Parameters\n",
      " |      ----------\n",
      " |      formula : str or generic Formula object\n",
      " |          The formula specifying the model.\n",
      " |      data : array_like\n",
      " |          The data for the model. See Notes.\n",
      " |      subset : array_like\n",
      " |          An array-like object of booleans, integers, or index values that\n",
      " |          indicate the subset of df to use in the model. Assumes df is a\n",
      " |          `pandas.DataFrame`.\n",
      " |      drop_cols : array_like\n",
      " |          Columns to drop from the design matrix.  Cannot be used to\n",
      " |          drop terms involving categoricals.\n",
      " |      *args\n",
      " |          Additional positional argument that are passed to the model.\n",
      " |      **kwargs\n",
      " |          These are passed to the model with one exception. The\n",
      " |          ``eval_env`` keyword is passed to patsy. It can be either a\n",
      " |          :class:`patsy:patsy.EvalEnvironment` object or an integer\n",
      " |          indicating the depth of the namespace to use. For example, the\n",
      " |          default ``eval_env=0`` uses the calling namespace. If you wish\n",
      " |          to use a \"clean\" environment set ``eval_env=-1``.\n",
      " |      \n",
      " |      Returns\n",
      " |      -------\n",
      " |      model\n",
      " |          The model instance.\n",
      " |      \n",
      " |      Notes\n",
      " |      -----\n",
      " |      data must define __getitem__ with the keys in the formula terms\n",
      " |      args and kwargs are passed on to the model instantiation. E.g.,\n",
      " |      a numpy structured or rec array, a dictionary, or a pandas DataFrame.\n",
      " |  \n",
      " |  ----------------------------------------------------------------------\n",
      " |  Readonly properties inherited from statsmodels.base.model.Model:\n",
      " |  \n",
      " |  endog_names\n",
      " |      Names of endogenous variables.\n",
      " |  \n",
      " |  ----------------------------------------------------------------------\n",
      " |  Data descriptors inherited from statsmodels.base.model.Model:\n",
      " |  \n",
      " |  __dict__\n",
      " |      dictionary for instance variables (if defined)\n",
      " |  \n",
      " |  __weakref__\n",
      " |      list of weak references to the object (if defined)\n",
      "\n"
     ]
    }
   ],
   "source": [
    "help(AutoReg)"
   ]
  },
  {
   "cell_type": "markdown",
   "metadata": {},
   "source": [
    "## Making Predictions"
   ]
  },
  {
   "cell_type": "markdown",
   "metadata": {},
   "source": [
    "In order to assess the accuracy of our predictions, we will remove the last ten observations from the variable which we are using to train the model. Afterwards, we will then predict those ten observations, and see how close we got with our model to what happened in reality!"
   ]
  },
  {
   "cell_type": "code",
   "execution_count": 71,
   "metadata": {
    "scrolled": true
   },
   "outputs": [
    {
     "name": "stderr",
     "output_type": "stream",
     "text": [
      "C:\\Users\\cnr\\.conda\\envs\\kittycat\\lib\\site-packages\\statsmodels\\tsa\\ar_model.py:248: FutureWarning: The parameter names will change after 0.12 is released. Set old_names to False to use the new names now. Set old_names to True to use the old names. \n",
      "  warnings.warn(\n"
     ]
    },
    {
     "data": {
      "text/html": [
       "<table class=\"simpletable\">\n",
       "<caption>AutoReg Model Results</caption>\n",
       "<tr>\n",
       "  <th>Dep. Variable:</th>     <td>Humidity</td>     <th>  No. Observations:  </th>   <td>2652</td>  \n",
       "</tr>\n",
       "<tr>\n",
       "  <th>Model:</th>            <td>AutoReg(2)</td>    <th>  Log Likelihood     </th> <td>3884.695</td>\n",
       "</tr>\n",
       "<tr>\n",
       "  <th>Method:</th>         <td>Conditional MLE</td> <th>  S.D. of innovations</th>   <td>0.056</td> \n",
       "</tr>\n",
       "<tr>\n",
       "  <th>Date:</th>          <td>Thu, 26 Nov 2020</td> <th>  AIC                </th>  <td>-5.767</td> \n",
       "</tr>\n",
       "<tr>\n",
       "  <th>Time:</th>              <td>18:45:01</td>     <th>  BIC                </th>  <td>-5.758</td> \n",
       "</tr>\n",
       "<tr>\n",
       "  <th>Sample:</th>           <td>02-02-2015</td>    <th>  HQIC               </th>  <td>-5.763</td> \n",
       "</tr>\n",
       "<tr>\n",
       "  <th></th>                 <td>- 05-24-2015</td>   <th>                     </th>     <td> </td>   \n",
       "</tr>\n",
       "</table>\n",
       "<table class=\"simpletable\">\n",
       "<tr>\n",
       "       <td></td>          <th>coef</th>     <th>std err</th>      <th>z</th>      <th>P>|z|</th>  <th>[0.025</th>    <th>0.975]</th>  \n",
       "</tr>\n",
       "<tr>\n",
       "  <th>intercept</th>   <td>    0.0069</td> <td>    0.011</td> <td>    0.605</td> <td> 0.545</td> <td>   -0.015</td> <td>    0.029</td>\n",
       "</tr>\n",
       "<tr>\n",
       "  <th>Humidity.L1</th> <td>    1.0090</td> <td>    0.019</td> <td>   51.976</td> <td> 0.000</td> <td>    0.971</td> <td>    1.047</td>\n",
       "</tr>\n",
       "<tr>\n",
       "  <th>Humidity.L2</th> <td>   -0.0092</td> <td>    0.019</td> <td>   -0.476</td> <td> 0.634</td> <td>   -0.047</td> <td>    0.029</td>\n",
       "</tr>\n",
       "</table>\n",
       "<table class=\"simpletable\">\n",
       "<caption>Roots</caption>\n",
       "<tr>\n",
       "    <td></td>   <th>            Real</th>  <th>         Imaginary</th> <th>         Modulus</th>  <th>        Frequency</th>\n",
       "</tr>\n",
       "<tr>\n",
       "  <th>AR.1</th> <td>           1.0003</td> <td>          +0.0000j</td> <td>           1.0003</td> <td>           0.0000</td>\n",
       "</tr>\n",
       "<tr>\n",
       "  <th>AR.2</th> <td>         108.1830</td> <td>          +0.0000j</td> <td>         108.1830</td> <td>           0.0000</td>\n",
       "</tr>\n",
       "</table>"
      ],
      "text/plain": [
       "<class 'statsmodels.iolib.summary.Summary'>\n",
       "\"\"\"\n",
       "                            AutoReg Model Results                             \n",
       "==============================================================================\n",
       "Dep. Variable:               Humidity   No. Observations:                 2652\n",
       "Model:                     AutoReg(2)   Log Likelihood                3884.695\n",
       "Method:               Conditional MLE   S.D. of innovations              0.056\n",
       "Date:                Thu, 26 Nov 2020   AIC                             -5.767\n",
       "Time:                        18:45:01   BIC                             -5.758\n",
       "Sample:                    02-02-2015   HQIC                            -5.763\n",
       "                         - 05-24-2015                                         \n",
       "===============================================================================\n",
       "                  coef    std err          z      P>|z|      [0.025      0.975]\n",
       "-------------------------------------------------------------------------------\n",
       "intercept       0.0069      0.011      0.605      0.545      -0.015       0.029\n",
       "Humidity.L1     1.0090      0.019     51.976      0.000       0.971       1.047\n",
       "Humidity.L2    -0.0092      0.019     -0.476      0.634      -0.047       0.029\n",
       "                                    Roots                                    \n",
       "=============================================================================\n",
       "                  Real          Imaginary           Modulus         Frequency\n",
       "-----------------------------------------------------------------------------\n",
       "AR.1            1.0003           +0.0000j            1.0003            0.0000\n",
       "AR.2          108.1830           +0.0000j          108.1830            0.0000\n",
       "-----------------------------------------------------------------------------\n",
       "\"\"\""
      ]
     },
     "execution_count": 71,
     "metadata": {},
     "output_type": "execute_result"
    }
   ],
   "source": [
    "(train, test) = df.Humidity[:-10], df.Humidity[-10:] #train: humidity son 10 entrysi disindaki series\n",
    "#test:son 10 deger humiditydeki\n",
    "\n",
    "#random yapamazsin cünkü time series bir consistency olmali\n",
    "model = AutoReg(train, lags = 2).fit()\n",
    "model.summary()"
   ]
  },
  {
   "cell_type": "code",
   "execution_count": 80,
   "metadata": {},
   "outputs": [
    {
     "data": {
      "text/plain": [
       "2662"
      ]
     },
     "execution_count": 80,
     "metadata": {},
     "output_type": "execute_result"
    }
   ],
   "source": [
    "#son 10 degeri cikariyoruz onlar test degerleri cünkü en son degerler yani yarinki yada bir kac saat sonraki degerler\n"
   ]
  },
  {
   "cell_type": "code",
   "execution_count": 81,
   "metadata": {},
   "outputs": [
    {
     "data": {
      "text/plain": [
       "2015-05-24 04:00:00    25.889684\n",
       "2015-05-24 05:00:00    25.889684\n",
       "2015-05-24 06:00:00    25.911878\n",
       "2015-05-24 07:00:00    25.891165\n",
       "2015-05-24 08:00:00    25.978445\n",
       "2015-05-24 09:00:00    25.850549\n",
       "2015-05-24 10:00:00    25.698355\n",
       "2015-05-24 11:00:00    25.736055\n",
       "2015-05-24 12:00:00    25.699410\n",
       "2015-05-24 13:00:00    25.699737\n",
       "2015-05-24 14:00:00    25.681242\n",
       "Freq: H, dtype: float64"
      ]
     },
     "execution_count": 81,
     "metadata": {},
     "output_type": "execute_result"
    }
   ],
   "source": [
    "pred #bunu yaparken lags cok kücük oldugunda hep bir gün geriden geliyor, yani 1 gün öncekine göre predict ediyor\n",
    "# bu yüzden cok uzun predictionlar yapamayabilirsin"
   ]
  },
  {
   "cell_type": "code",
   "execution_count": 68,
   "metadata": {},
   "outputs": [
    {
     "data": {
      "text/html": [
       "<div>\n",
       "<style scoped>\n",
       "    .dataframe tbody tr th:only-of-type {\n",
       "        vertical-align: middle;\n",
       "    }\n",
       "\n",
       "    .dataframe tbody tr th {\n",
       "        vertical-align: top;\n",
       "    }\n",
       "\n",
       "    .dataframe thead th {\n",
       "        text-align: right;\n",
       "    }\n",
       "</style>\n",
       "<table border=\"1\" class=\"dataframe\">\n",
       "  <thead>\n",
       "    <tr style=\"text-align: right;\">\n",
       "      <th></th>\n",
       "      <th>Prediction</th>\n",
       "      <th>True Values</th>\n",
       "    </tr>\n",
       "  </thead>\n",
       "  <tbody>\n",
       "    <tr>\n",
       "      <th>0</th>\n",
       "      <td>25.890000</td>\n",
       "      <td>25.889684</td>\n",
       "    </tr>\n",
       "    <tr>\n",
       "      <th>1</th>\n",
       "      <td>25.912000</td>\n",
       "      <td>25.889684</td>\n",
       "    </tr>\n",
       "    <tr>\n",
       "      <th>2</th>\n",
       "      <td>25.891667</td>\n",
       "      <td>25.911878</td>\n",
       "    </tr>\n",
       "    <tr>\n",
       "      <th>3</th>\n",
       "      <td>25.978000</td>\n",
       "      <td>25.891165</td>\n",
       "    </tr>\n",
       "    <tr>\n",
       "      <th>4</th>\n",
       "      <td>25.852000</td>\n",
       "      <td>25.978445</td>\n",
       "    </tr>\n",
       "    <tr>\n",
       "      <th>5</th>\n",
       "      <td>25.700000</td>\n",
       "      <td>25.850549</td>\n",
       "    </tr>\n",
       "    <tr>\n",
       "      <th>6</th>\n",
       "      <td>25.736000</td>\n",
       "      <td>25.698355</td>\n",
       "    </tr>\n",
       "    <tr>\n",
       "      <th>7</th>\n",
       "      <td>25.700000</td>\n",
       "      <td>25.736055</td>\n",
       "    </tr>\n",
       "    <tr>\n",
       "      <th>8</th>\n",
       "      <td>25.700000</td>\n",
       "      <td>25.699410</td>\n",
       "    </tr>\n",
       "    <tr>\n",
       "      <th>9</th>\n",
       "      <td>25.681667</td>\n",
       "      <td>25.699737</td>\n",
       "    </tr>\n",
       "  </tbody>\n",
       "</table>\n",
       "</div>"
      ],
      "text/plain": [
       "   Prediction  True Values\n",
       "0   25.890000    25.889684\n",
       "1   25.912000    25.889684\n",
       "2   25.891667    25.911878\n",
       "3   25.978000    25.891165\n",
       "4   25.852000    25.978445\n",
       "5   25.700000    25.850549\n",
       "6   25.736000    25.698355\n",
       "7   25.700000    25.736055\n",
       "8   25.700000    25.699410\n",
       "9   25.681667    25.699737"
      ]
     },
     "execution_count": 68,
     "metadata": {},
     "output_type": "execute_result"
    }
   ],
   "source": [
    "pred = model.predict(start=len(train), end=len(train)+10)\n",
    "#model is quite easy to predict, beccause autocorr was so high\n",
    "pd.DataFrame(zip(test, pred), columns = {'True Values', 'Prediction'})\n",
    "# predict:Y hat =beta0 + beta1 Yt-1 + beta2 Yt-2"
   ]
  },
  {
   "cell_type": "markdown",
   "metadata": {},
   "source": [
    "### Dickey Fuller Test for Stationarity"
   ]
  },
  {
   "cell_type": "code",
   "execution_count": 92,
   "metadata": {},
   "outputs": [
    {
     "data": {
      "text/plain": [
       "(-2.149550993079104,\n",
       " 0.2250619992320207,\n",
       " 23,\n",
       " 2638,\n",
       " {'1%': -3.4328313019591583,\n",
       "  '5%': -2.86263625123482,\n",
       "  '10%': -2.567353572714873},\n",
       " -7939.596861531434)"
      ]
     },
     "execution_count": 92,
     "metadata": {},
     "output_type": "execute_result"
    }
   ],
   "source": [
    "from statsmodels.tsa.stattools import adfuller\n",
    "#help(adfuller)\n",
    "adfuller(df.Humidity)#second one is p-value 0.22, we fail to reject it is not stationary because it is bigger than 0.5\n",
    "#HO: time series is not stationary, we fail to reject so the data is not stationary"
   ]
  },
  {
   "cell_type": "code",
   "execution_count": 123,
   "metadata": {},
   "outputs": [
    {
     "data": {
      "text/plain": [
       "(-5.929156941803512,\n",
       " 2.4035285690791973e-07,\n",
       " 22,\n",
       " 2639,\n",
       " {'1%': -3.432830360798943,\n",
       "  '5%': -2.8626358355986774,\n",
       "  '10%': -2.5673533514279425},\n",
       " -7936.868635028)"
      ]
     },
     "execution_count": 123,
     "metadata": {},
     "output_type": "execute_result"
    }
   ],
   "source": [
    "# On First Differences\n",
    "\n",
    "adfuller(df['Humidity_diff'][1:]) #we are able to reject, our data is stationary"
   ]
  },
  {
   "cell_type": "code",
   "execution_count": 124,
   "metadata": {},
   "outputs": [
    {
     "data": {
      "text/plain": [
       "<matplotlib.axes._subplots.AxesSubplot at 0x1249a4cd0>"
      ]
     },
     "execution_count": 124,
     "metadata": {},
     "output_type": "execute_result"
    },
    {
     "data": {
      "image/png": "[encoded data removed]",
      "text/plain": [
       "<Figure size 864x432 with 1 Axes>"
      ]
     },
     "metadata": {
      "needs_background": "light"
     },
     "output_type": "display_data"
    }
   ],
   "source": [
    "df['Humidity_diff'].plot()"
   ]
  },
  {
   "cell_type": "markdown",
   "metadata": {},
   "source": [
    "## MA models"
   ]
  },
  {
   "cell_type": "code",
   "execution_count": 86,
   "metadata": {},
   "outputs": [
    {
     "name": "stdout",
     "output_type": "stream",
     "text": [
      "const        717.847003\n",
      "ma.L1.CO2      0.992395\n",
      "dtype: float64\n"
     ]
    }
   ],
   "source": [
    "from statsmodels.tsa.arima_model import ARMA\n",
    "\n",
    "model = ARMA(df['CO2'], order=(0, 1)).fit()\n",
    "print(model.params)\n",
    "#moving average is good if the data moves around mean"
   ]
  },
  {
   "cell_type": "code",
   "execution_count": 87,
   "metadata": {},
   "outputs": [
    {
     "data": {
      "text/html": [
       "<div>\n",
       "<style scoped>\n",
       "    .dataframe tbody tr th:only-of-type {\n",
       "        vertical-align: middle;\n",
       "    }\n",
       "\n",
       "    .dataframe tbody tr th {\n",
       "        vertical-align: top;\n",
       "    }\n",
       "\n",
       "    .dataframe thead th {\n",
       "        text-align: right;\n",
       "    }\n",
       "</style>\n",
       "<table border=\"1\" class=\"dataframe\">\n",
       "  <thead>\n",
       "    <tr style=\"text-align: right;\">\n",
       "      <th></th>\n",
       "      <th>Prediction</th>\n",
       "      <th>True Values</th>\n",
       "    </tr>\n",
       "  </thead>\n",
       "  <tbody>\n",
       "    <tr>\n",
       "      <th>0</th>\n",
       "      <td>1153.250000</td>\n",
       "      <td>909.939728</td>\n",
       "    </tr>\n",
       "    <tr>\n",
       "      <th>1</th>\n",
       "      <td>1152.400000</td>\n",
       "      <td>959.306888</td>\n",
       "    </tr>\n",
       "    <tr>\n",
       "      <th>2</th>\n",
       "      <td>1146.166667</td>\n",
       "      <td>909.471632</td>\n",
       "    </tr>\n",
       "    <tr>\n",
       "      <th>3</th>\n",
       "      <td>1145.400000</td>\n",
       "      <td>952.741960</td>\n",
       "    </tr>\n",
       "    <tr>\n",
       "      <th>4</th>\n",
       "      <td>1140.800000</td>\n",
       "      <td>909.039869</td>\n",
       "    </tr>\n",
       "    <tr>\n",
       "      <th>5</th>\n",
       "      <td>1150.250000</td>\n",
       "      <td>947.844587</td>\n",
       "    </tr>\n",
       "    <tr>\n",
       "      <th>6</th>\n",
       "      <td>1129.200000</td>\n",
       "      <td>918.713113</td>\n",
       "    </tr>\n",
       "    <tr>\n",
       "      <th>7</th>\n",
       "      <td>1125.800000</td>\n",
       "      <td>926.733127</td>\n",
       "    </tr>\n",
       "    <tr>\n",
       "      <th>8</th>\n",
       "      <td>1123.000000</td>\n",
       "      <td>915.399963</td>\n",
       "    </tr>\n",
       "    <tr>\n",
       "      <th>9</th>\n",
       "      <td>1124.000000</td>\n",
       "      <td>923.868232</td>\n",
       "    </tr>\n",
       "  </tbody>\n",
       "</table>\n",
       "</div>"
      ],
      "text/plain": [
       "    Prediction  True Values\n",
       "0  1153.250000   909.939728\n",
       "1  1152.400000   959.306888\n",
       "2  1146.166667   909.471632\n",
       "3  1145.400000   952.741960\n",
       "4  1140.800000   909.039869\n",
       "5  1150.250000   947.844587\n",
       "6  1129.200000   918.713113\n",
       "7  1125.800000   926.733127\n",
       "8  1123.000000   915.399963\n",
       "9  1124.000000   923.868232"
      ]
     },
     "execution_count": 87,
     "metadata": {},
     "output_type": "execute_result"
    }
   ],
   "source": [
    "(train, test) = df.CO2[:-10], df.CO2[-10:]\n",
    "\n",
    "model = ARMA(df['CO2'], order=(0, 1)).fit()\n",
    "pred = model.predict(start=len(train), end=len(train)+10)\n",
    "pd.DataFrame(zip(test, pred), columns = {'True Values', 'Prediction'})"
   ]
  },
  {
   "cell_type": "markdown",
   "metadata": {},
   "source": [
    "## ARMA Models"
   ]
  },
  {
   "cell_type": "code",
   "execution_count": 91,
   "metadata": {},
   "outputs": [
    {
     "data": {
      "text/html": [
       "<table class=\"simpletable\">\n",
       "<caption>ARMA Model Results</caption>\n",
       "<tr>\n",
       "  <th>Dep. Variable:</th>        <td>CO2</td>       <th>  No. Observations:  </th>   <td>2662</td>   \n",
       "</tr>\n",
       "<tr>\n",
       "  <th>Model:</th>            <td>ARMA(2, 1)</td>    <th>  Log Likelihood     </th> <td>-8007.747</td>\n",
       "</tr>\n",
       "<tr>\n",
       "  <th>Method:</th>             <td>css-mle</td>     <th>  S.D. of innovations</th>   <td>4.892</td>  \n",
       "</tr>\n",
       "<tr>\n",
       "  <th>Date:</th>          <td>Thu, 26 Nov 2020</td> <th>  AIC                </th> <td>16025.494</td>\n",
       "</tr>\n",
       "<tr>\n",
       "  <th>Time:</th>              <td>19:23:52</td>     <th>  BIC                </th> <td>16054.928</td>\n",
       "</tr>\n",
       "<tr>\n",
       "  <th>Sample:</th>           <td>02-02-2015</td>    <th>  HQIC               </th> <td>16036.145</td>\n",
       "</tr>\n",
       "<tr>\n",
       "  <th></th>                 <td>- 05-24-2015</td>   <th>                     </th>     <td> </td>    \n",
       "</tr>\n",
       "</table>\n",
       "<table class=\"simpletable\">\n",
       "<tr>\n",
       "      <td></td>         <th>coef</th>     <th>std err</th>      <th>z</th>      <th>P>|z|</th>  <th>[0.025</th>    <th>0.975]</th>  \n",
       "</tr>\n",
       "<tr>\n",
       "  <th>const</th>     <td>  696.1255</td> <td>   85.200</td> <td>    8.170</td> <td> 0.000</td> <td>  529.137</td> <td>  863.114</td>\n",
       "</tr>\n",
       "<tr>\n",
       "  <th>ar.L1.CO2</th> <td>    1.9909</td> <td>    0.001</td> <td> 3805.944</td> <td> 0.000</td> <td>    1.990</td> <td>    1.992</td>\n",
       "</tr>\n",
       "<tr>\n",
       "  <th>ar.L2.CO2</th> <td>   -0.9910</td> <td>    0.001</td> <td>-1895.025</td> <td> 0.000</td> <td>   -0.992</td> <td>   -0.990</td>\n",
       "</tr>\n",
       "<tr>\n",
       "  <th>ma.L1.CO2</th> <td>   -0.9330</td> <td>    0.007</td> <td> -136.696</td> <td> 0.000</td> <td>   -0.946</td> <td>   -0.920</td>\n",
       "</tr>\n",
       "</table>\n",
       "<table class=\"simpletable\">\n",
       "<caption>Roots</caption>\n",
       "<tr>\n",
       "    <td></td>   <th>            Real</th>  <th>         Imaginary</th> <th>         Modulus</th>  <th>        Frequency</th>\n",
       "</tr>\n",
       "<tr>\n",
       "  <th>AR.1</th> <td>           1.0045</td> <td>          -0.0072j</td> <td>           1.0045</td> <td>          -0.0011</td>\n",
       "</tr>\n",
       "<tr>\n",
       "  <th>AR.2</th> <td>           1.0045</td> <td>          +0.0072j</td> <td>           1.0045</td> <td>           0.0011</td>\n",
       "</tr>\n",
       "<tr>\n",
       "  <th>MA.1</th> <td>           1.0719</td> <td>          +0.0000j</td> <td>           1.0719</td> <td>           0.0000</td>\n",
       "</tr>\n",
       "</table>"
      ],
      "text/plain": [
       "<class 'statsmodels.iolib.summary.Summary'>\n",
       "\"\"\"\n",
       "                              ARMA Model Results                              \n",
       "==============================================================================\n",
       "Dep. Variable:                    CO2   No. Observations:                 2662\n",
       "Model:                     ARMA(2, 1)   Log Likelihood               -8007.747\n",
       "Method:                       css-mle   S.D. of innovations              4.892\n",
       "Date:                Thu, 26 Nov 2020   AIC                          16025.494\n",
       "Time:                        19:23:52   BIC                          16054.928\n",
       "Sample:                    02-02-2015   HQIC                         16036.145\n",
       "                         - 05-24-2015                                         \n",
       "==============================================================================\n",
       "                 coef    std err          z      P>|z|      [0.025      0.975]\n",
       "------------------------------------------------------------------------------\n",
       "const        696.1255     85.200      8.170      0.000     529.137     863.114\n",
       "ar.L1.CO2      1.9909      0.001   3805.944      0.000       1.990       1.992\n",
       "ar.L2.CO2     -0.9910      0.001  -1895.025      0.000      -0.992      -0.990\n",
       "ma.L1.CO2     -0.9330      0.007   -136.696      0.000      -0.946      -0.920\n",
       "                                    Roots                                    \n",
       "=============================================================================\n",
       "                  Real          Imaginary           Modulus         Frequency\n",
       "-----------------------------------------------------------------------------\n",
       "AR.1            1.0045           -0.0072j            1.0045           -0.0011\n",
       "AR.2            1.0045           +0.0072j            1.0045            0.0011\n",
       "MA.1            1.0719           +0.0000j            1.0719            0.0000\n",
       "-----------------------------------------------------------------------------\n",
       "\"\"\""
      ]
     },
     "execution_count": 91,
     "metadata": {},
     "output_type": "execute_result"
    }
   ],
   "source": [
    "model = ARMA(df['CO2'], order=(2, 1)).fit()\n",
    "model.summary()\n",
    "#pred = model.predict(start=len(train), end=len(train)+10)\n",
    "#pd.DataFrame(zip(test, pred), columns = {'True Values', 'Prediction'})\n",
    "#arma combines past version of itself and past residuals\n",
    "#ARMA(1,0) is just AR(1) and similary ARMA(0,1) is only MA(1)"
   ]
  },
  {
   "cell_type": "code",
   "execution_count": null,
   "metadata": {},
   "outputs": [],
   "source": [
    "#stationary, if a variable is stationary then it is properties(such as mean) are stable overtime\n",
    "#they dont have trend or seasonal effects"
   ]
  },
  {
   "cell_type": "markdown",
   "metadata": {},
   "source": [
    "## Extra Pointer\n",
    "\n",
    "For those who are especially interested in time series:\n",
    "\n",
    "There is a further class of models called ARIMA models - this stands for Autoregressive Integrated Moving Average\n",
    "\n",
    "The 'integrated' here refers to the number of times needed to difference a series in order to achieve stationarity.\n",
    "So an ARMA model is equivalent to an ARIMA model of the same MA and AR orders with no differencing.\n",
    "\n",
    "ARMA(p,q) is equivalent to ARIMA(p,0,q)\n"
   ]
  },
  {
   "cell_type": "code",
   "execution_count": 128,
   "metadata": {},
   "outputs": [
    {
     "data": {
      "text/html": [
       "<table class=\"simpletable\">\n",
       "<caption>ARMA Model Results</caption>\n",
       "<tr>\n",
       "  <th>Dep. Variable:</th>     <td>Humidity</td>     <th>  No. Observations:  </th>   <td>2663</td>   \n",
       "</tr>\n",
       "<tr>\n",
       "  <th>Model:</th>            <td>ARMA(1, 5)</td>    <th>  Log Likelihood     </th> <td>3956.320</td> \n",
       "</tr>\n",
       "<tr>\n",
       "  <th>Method:</th>             <td>css-mle</td>     <th>  S.D. of innovations</th>   <td>0.055</td>  \n",
       "</tr>\n",
       "<tr>\n",
       "  <th>Date:</th>          <td>Thu, 19 Nov 2020</td> <th>  AIC                </th> <td>-7896.639</td>\n",
       "</tr>\n",
       "<tr>\n",
       "  <th>Time:</th>              <td>12:57:52</td>     <th>  BIC                </th> <td>-7849.542</td>\n",
       "</tr>\n",
       "<tr>\n",
       "  <th>Sample:</th>           <td>02-02-2015</td>    <th>  HQIC               </th> <td>-7879.596</td>\n",
       "</tr>\n",
       "<tr>\n",
       "  <th></th>                 <td>- 05-24-2015</td>   <th>                     </th>     <td> </td>    \n",
       "</tr>\n",
       "</table>\n",
       "<table class=\"simpletable\">\n",
       "<tr>\n",
       "         <td></td>           <th>coef</th>     <th>std err</th>      <th>z</th>      <th>P>|z|</th>  <th>[0.025</th>    <th>0.975]</th>  \n",
       "</tr>\n",
       "<tr>\n",
       "  <th>const</th>          <td>   25.6992</td> <td>    1.454</td> <td>   17.670</td> <td> 0.000</td> <td>   22.849</td> <td>   28.550</td>\n",
       "</tr>\n",
       "<tr>\n",
       "  <th>ar.L1.Humidity</th> <td>    0.9994</td> <td>    0.000</td> <td> 2114.941</td> <td> 0.000</td> <td>    0.998</td> <td>    1.000</td>\n",
       "</tr>\n",
       "<tr>\n",
       "  <th>ma.L1.Humidity</th> <td>   -0.0358</td> <td>    0.019</td> <td>   -1.837</td> <td> 0.066</td> <td>   -0.074</td> <td>    0.002</td>\n",
       "</tr>\n",
       "<tr>\n",
       "  <th>ma.L2.Humidity</th> <td>    0.0644</td> <td>    0.020</td> <td>    3.274</td> <td> 0.001</td> <td>    0.026</td> <td>    0.103</td>\n",
       "</tr>\n",
       "<tr>\n",
       "  <th>ma.L3.Humidity</th> <td>    0.0227</td> <td>    0.018</td> <td>    1.255</td> <td> 0.209</td> <td>   -0.013</td> <td>    0.058</td>\n",
       "</tr>\n",
       "<tr>\n",
       "  <th>ma.L4.Humidity</th> <td>    0.1194</td> <td>    0.019</td> <td>    6.361</td> <td> 0.000</td> <td>    0.083</td> <td>    0.156</td>\n",
       "</tr>\n",
       "<tr>\n",
       "  <th>ma.L5.Humidity</th> <td>    0.1115</td> <td>    0.019</td> <td>    5.971</td> <td> 0.000</td> <td>    0.075</td> <td>    0.148</td>\n",
       "</tr>\n",
       "</table>\n",
       "<table class=\"simpletable\">\n",
       "<caption>Roots</caption>\n",
       "<tr>\n",
       "    <td></td>   <th>            Real</th>  <th>         Imaginary</th> <th>         Modulus</th>  <th>        Frequency</th>\n",
       "</tr>\n",
       "<tr>\n",
       "  <th>AR.1</th> <td>           1.0006</td> <td>          +0.0000j</td> <td>           1.0006</td> <td>           0.0000</td>\n",
       "</tr>\n",
       "<tr>\n",
       "  <th>MA.1</th> <td>           1.0438</td> <td>          -0.9159j</td> <td>           1.3887</td> <td>          -0.1146</td>\n",
       "</tr>\n",
       "<tr>\n",
       "  <th>MA.2</th> <td>           1.0438</td> <td>          +0.9159j</td> <td>           1.3887</td> <td>           0.1146</td>\n",
       "</tr>\n",
       "<tr>\n",
       "  <th>MA.3</th> <td>          -0.6370</td> <td>          -1.4362j</td> <td>           1.5711</td> <td>          -0.3164</td>\n",
       "</tr>\n",
       "<tr>\n",
       "  <th>MA.4</th> <td>          -0.6370</td> <td>          +1.4362j</td> <td>           1.5711</td> <td>           0.3164</td>\n",
       "</tr>\n",
       "<tr>\n",
       "  <th>MA.5</th> <td>          -1.8845</td> <td>          -0.0000j</td> <td>           1.8845</td> <td>          -0.5000</td>\n",
       "</tr>\n",
       "</table>"
      ],
      "text/plain": [
       "<class 'statsmodels.iolib.summary.Summary'>\n",
       "\"\"\"\n",
       "                              ARMA Model Results                              \n",
       "==============================================================================\n",
       "Dep. Variable:               Humidity   No. Observations:                 2663\n",
       "Model:                     ARMA(1, 5)   Log Likelihood                3956.320\n",
       "Method:                       css-mle   S.D. of innovations              0.055\n",
       "Date:                Thu, 19 Nov 2020   AIC                          -7896.639\n",
       "Time:                        12:57:52   BIC                          -7849.542\n",
       "Sample:                    02-02-2015   HQIC                         -7879.596\n",
       "                         - 05-24-2015                                         \n",
       "==================================================================================\n",
       "                     coef    std err          z      P>|z|      [0.025      0.975]\n",
       "----------------------------------------------------------------------------------\n",
       "const             25.6992      1.454     17.670      0.000      22.849      28.550\n",
       "ar.L1.Humidity     0.9994      0.000   2114.941      0.000       0.998       1.000\n",
       "ma.L1.Humidity    -0.0358      0.019     -1.837      0.066      -0.074       0.002\n",
       "ma.L2.Humidity     0.0644      0.020      3.274      0.001       0.026       0.103\n",
       "ma.L3.Humidity     0.0227      0.018      1.255      0.209      -0.013       0.058\n",
       "ma.L4.Humidity     0.1194      0.019      6.361      0.000       0.083       0.156\n",
       "ma.L5.Humidity     0.1115      0.019      5.971      0.000       0.075       0.148\n",
       "                                    Roots                                    \n",
       "=============================================================================\n",
       "                  Real          Imaginary           Modulus         Frequency\n",
       "-----------------------------------------------------------------------------\n",
       "AR.1            1.0006           +0.0000j            1.0006            0.0000\n",
       "MA.1            1.0438           -0.9159j            1.3887           -0.1146\n",
       "MA.2            1.0438           +0.9159j            1.3887            0.1146\n",
       "MA.3           -0.6370           -1.4362j            1.5711           -0.3164\n",
       "MA.4           -0.6370           +1.4362j            1.5711            0.3164\n",
       "MA.5           -1.8845           -0.0000j            1.8845           -0.5000\n",
       "-----------------------------------------------------------------------------\n",
       "\"\"\""
      ]
     },
     "execution_count": 128,
     "metadata": {},
     "output_type": "execute_result"
    }
   ],
   "source": [
    "# Example:\n",
    "\n",
    "from statsmodels.tsa.arima_model import ARIMA\n",
    "model=ARIMA(df['Humidity'] ,order=(1,0,5)).fit()\n",
    "model.summary()"
   ]
  },
  {
   "cell_type": "code",
   "execution_count": 93,
   "metadata": {},
   "outputs": [],
   "source": [
    "#time series are mostly used in financial data, stock prices, gold prices, economic variables, anything we observe over time\n",
    "# the goal is mostly prediction, by looking its past"
   ]
  }
 ],
 "metadata": {
  "kernelspec": {
   "display_name": "Python 3",
   "language": "python",
   "name": "python3"
  },
  "language_info": {
   "codemirror_mode": {
    "name": "ipython",
    "version": 3
   },
   "file_extension": ".py",
   "mimetype": "text/x-python",
   "name": "python",
   "nbconvert_exporter": "python",
   "pygments_lexer": "ipython3",
   "version": "3.8.5"
  }
 },
 "nbformat": 4,
 "nbformat_minor": 4
}
