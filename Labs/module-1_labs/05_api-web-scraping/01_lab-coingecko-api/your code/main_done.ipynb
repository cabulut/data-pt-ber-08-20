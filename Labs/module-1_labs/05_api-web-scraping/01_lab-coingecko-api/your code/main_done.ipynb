{
 "cells": [
  {
   "cell_type": "markdown",
   "metadata": {},
   "source": [
    "##  Imports"
   ]
  },
  {
   "cell_type": "code",
   "execution_count": 92,
   "metadata": {},
   "outputs": [],
   "source": [
    "import pandas as pd\n",
    "import requests\n",
    "import json\n",
    "import matplotlib.pyplot as plt\n",
    "%matplotlib inline"
   ]
  },
  {
   "cell_type": "markdown",
   "metadata": {},
   "source": [
    "### Challenge 1: \n",
    "\n",
    "Get the Bitcoin market value vs USD for last 30 days. For your results, you would like to deliver them both as a DataFrame and then create an appropriate plot.\n",
    "\n",
    "Hint: start by creating a base_url for the Coingecko API, and then adding the parameters you want by looking at the documentation, which you can find here: https://www.coingecko.com/api/documentations/v3#\n",
    "\n",
    "Specifically in this example, we are looking at: https://www.coingecko.com/api/documentations/v3#/coins/get_coins__id__market_chart\n",
    "\n",
    "You want a coin (Bitcoin), vs USD, timeframe of 30 days.\n",
    "\n",
    "For creating the DataFrame, you can print out all of the keys of your resulting json file, to see which ones you would like to extract as columns! The timestamp for these dataseries is in milliseconds - you can convert it to a convenient format using pd.to_datetime (look into how you can specify the unit here!)"
   ]
  },
  {
   "cell_type": "code",
   "execution_count": 2,
   "metadata": {},
   "outputs": [
    {
     "name": "stdout",
     "output_type": "stream",
     "text": [
      "dict_keys(['prices', 'market_caps', 'total_volumes'])\n"
     ]
    }
   ],
   "source": [
    "# Your code here:\n",
    "base = 'https://api.coingecko.com/api/v3/'\n",
    "url = base + 'coins/bitcoin/market_chart'\n",
    "param_dict = {'id':'bitcoin', 'vs_currency':'usd', 'days':30}\n",
    "\n",
    "response = requests.get(url, params=param_dict)\n",
    "results = response.json()\n",
    "\n",
    "print(results.keys())\n",
    "\n",
    "# now create a dataframe and a plot!"
   ]
  },
  {
   "cell_type": "code",
   "execution_count": 46,
   "metadata": {
    "scrolled": false
   },
   "outputs": [],
   "source": [
    "prices = pd.DataFrame(results[\"prices\"])"
   ]
  },
  {
   "cell_type": "code",
   "execution_count": 47,
   "metadata": {},
   "outputs": [],
   "source": [
    "market_caps = pd.DataFrame(results[\"market_caps\"])"
   ]
  },
  {
   "cell_type": "code",
   "execution_count": 48,
   "metadata": {},
   "outputs": [],
   "source": [
    "total_volumes = pd.DataFrame(results[\"total_volumes\"])"
   ]
  },
  {
   "cell_type": "code",
   "execution_count": 38,
   "metadata": {},
   "outputs": [],
   "source": [
    "concat = [prices,market_caps,total_volumes]"
   ]
  },
  {
   "cell_type": "code",
   "execution_count": 83,
   "metadata": {},
   "outputs": [],
   "source": [
    "df = pd.concat(concat,axis=1,ignore_index=True)\n",
    "df = df.drop([2,4],axis=1)"
   ]
  },
  {
   "cell_type": "code",
   "execution_count": 84,
   "metadata": {},
   "outputs": [],
   "source": [
    "df.rename(columns = {0:\"date\",1:\"prices\",3:\"market_caps\",5:\"total_volumes\"},inplace=True)"
   ]
  },
  {
   "cell_type": "code",
   "execution_count": 85,
   "metadata": {},
   "outputs": [],
   "source": [
    "df[\"date\"] = pd.to_datetime(df[\"date\"],unit=\"ms\")"
   ]
  },
  {
   "cell_type": "code",
   "execution_count": 86,
   "metadata": {},
   "outputs": [
    {
     "data": {
      "text/html": [
       "<div>\n",
       "<style scoped>\n",
       "    .dataframe tbody tr th:only-of-type {\n",
       "        vertical-align: middle;\n",
       "    }\n",
       "\n",
       "    .dataframe tbody tr th {\n",
       "        vertical-align: top;\n",
       "    }\n",
       "\n",
       "    .dataframe thead th {\n",
       "        text-align: right;\n",
       "    }\n",
       "</style>\n",
       "<table border=\"1\" class=\"dataframe\">\n",
       "  <thead>\n",
       "    <tr style=\"text-align: right;\">\n",
       "      <th></th>\n",
       "      <th>date</th>\n",
       "      <th>prices</th>\n",
       "      <th>market_caps</th>\n",
       "      <th>total_volumes</th>\n",
       "    </tr>\n",
       "  </thead>\n",
       "  <tbody>\n",
       "    <tr>\n",
       "      <th>0</th>\n",
       "      <td>2020-09-08 18:06:35.390</td>\n",
       "      <td>10161.669939</td>\n",
       "      <td>1.878728e+11</td>\n",
       "      <td>2.516628e+10</td>\n",
       "    </tr>\n",
       "    <tr>\n",
       "      <th>1</th>\n",
       "      <td>2020-09-08 19:04:49.351</td>\n",
       "      <td>9978.866934</td>\n",
       "      <td>1.845693e+11</td>\n",
       "      <td>4.595180e+10</td>\n",
       "    </tr>\n",
       "    <tr>\n",
       "      <th>2</th>\n",
       "      <td>2020-09-08 20:09:12.369</td>\n",
       "      <td>10035.487962</td>\n",
       "      <td>1.848802e+11</td>\n",
       "      <td>4.637075e+10</td>\n",
       "    </tr>\n",
       "    <tr>\n",
       "      <th>3</th>\n",
       "      <td>2020-09-08 21:07:00.045</td>\n",
       "      <td>10004.316334</td>\n",
       "      <td>1.853500e+11</td>\n",
       "      <td>4.634483e+10</td>\n",
       "    </tr>\n",
       "    <tr>\n",
       "      <th>4</th>\n",
       "      <td>2020-09-08 22:02:13.874</td>\n",
       "      <td>10035.279584</td>\n",
       "      <td>1.848613e+11</td>\n",
       "      <td>4.665163e+10</td>\n",
       "    </tr>\n",
       "  </tbody>\n",
       "</table>\n",
       "</div>"
      ],
      "text/plain": [
       "                     date        prices   market_caps  total_volumes\n",
       "0 2020-09-08 18:06:35.390  10161.669939  1.878728e+11   2.516628e+10\n",
       "1 2020-09-08 19:04:49.351   9978.866934  1.845693e+11   4.595180e+10\n",
       "2 2020-09-08 20:09:12.369  10035.487962  1.848802e+11   4.637075e+10\n",
       "3 2020-09-08 21:07:00.045  10004.316334  1.853500e+11   4.634483e+10\n",
       "4 2020-09-08 22:02:13.874  10035.279584  1.848613e+11   4.665163e+10"
      ]
     },
     "execution_count": 86,
     "metadata": {},
     "output_type": "execute_result"
    }
   ],
   "source": [
    "df.head()"
   ]
  },
  {
   "cell_type": "code",
   "execution_count": 78,
   "metadata": {},
   "outputs": [],
   "source": [
    "df[\"market_caps\"] = df[\"market_caps\"].apply(lambda x: '%.5f' % x)"
   ]
  },
  {
   "cell_type": "code",
   "execution_count": 79,
   "metadata": {},
   "outputs": [],
   "source": [
    "df[\"total_volumes\"] = df[\"total_volumes\"].apply(lambda x: '%.5f' % x)"
   ]
  },
  {
   "cell_type": "code",
   "execution_count": 80,
   "metadata": {},
   "outputs": [
    {
     "data": {
      "text/html": [
       "<div>\n",
       "<style scoped>\n",
       "    .dataframe tbody tr th:only-of-type {\n",
       "        vertical-align: middle;\n",
       "    }\n",
       "\n",
       "    .dataframe tbody tr th {\n",
       "        vertical-align: top;\n",
       "    }\n",
       "\n",
       "    .dataframe thead th {\n",
       "        text-align: right;\n",
       "    }\n",
       "</style>\n",
       "<table border=\"1\" class=\"dataframe\">\n",
       "  <thead>\n",
       "    <tr style=\"text-align: right;\">\n",
       "      <th></th>\n",
       "      <th>date</th>\n",
       "      <th>prices</th>\n",
       "      <th>market_caps</th>\n",
       "      <th>total_volumes</th>\n",
       "    </tr>\n",
       "  </thead>\n",
       "  <tbody>\n",
       "    <tr>\n",
       "      <th>0</th>\n",
       "      <td>2020-09-08 18:06:35.390</td>\n",
       "      <td>10161.669939</td>\n",
       "      <td>187872796083.47998</td>\n",
       "      <td>25166282319.18417</td>\n",
       "    </tr>\n",
       "    <tr>\n",
       "      <th>1</th>\n",
       "      <td>2020-09-08 19:04:49.351</td>\n",
       "      <td>9978.866934</td>\n",
       "      <td>184569293251.34650</td>\n",
       "      <td>45951802996.11790</td>\n",
       "    </tr>\n",
       "    <tr>\n",
       "      <th>2</th>\n",
       "      <td>2020-09-08 20:09:12.369</td>\n",
       "      <td>10035.487962</td>\n",
       "      <td>184880236764.03738</td>\n",
       "      <td>46370746574.33752</td>\n",
       "    </tr>\n",
       "    <tr>\n",
       "      <th>3</th>\n",
       "      <td>2020-09-08 21:07:00.045</td>\n",
       "      <td>10004.316334</td>\n",
       "      <td>185349979454.20566</td>\n",
       "      <td>46344831359.60129</td>\n",
       "    </tr>\n",
       "    <tr>\n",
       "      <th>4</th>\n",
       "      <td>2020-09-08 22:02:13.874</td>\n",
       "      <td>10035.279584</td>\n",
       "      <td>184861301524.87192</td>\n",
       "      <td>46651630923.38908</td>\n",
       "    </tr>\n",
       "    <tr>\n",
       "      <th>...</th>\n",
       "      <td>...</td>\n",
       "      <td>...</td>\n",
       "      <td>...</td>\n",
       "      <td>...</td>\n",
       "    </tr>\n",
       "    <tr>\n",
       "      <th>716</th>\n",
       "      <td>2020-10-08 14:05:07.225</td>\n",
       "      <td>10734.841332</td>\n",
       "      <td>198717006239.62195</td>\n",
       "      <td>18149142091.04462</td>\n",
       "    </tr>\n",
       "    <tr>\n",
       "      <th>717</th>\n",
       "      <td>2020-10-08 15:08:52.776</td>\n",
       "      <td>10914.223466</td>\n",
       "      <td>201879529063.36963</td>\n",
       "      <td>19455345247.11687</td>\n",
       "    </tr>\n",
       "    <tr>\n",
       "      <th>718</th>\n",
       "      <td>2020-10-08 16:09:39.632</td>\n",
       "      <td>10905.082526</td>\n",
       "      <td>201688770809.50494</td>\n",
       "      <td>19579021043.82126</td>\n",
       "    </tr>\n",
       "    <tr>\n",
       "      <th>719</th>\n",
       "      <td>2020-10-08 17:02:01.391</td>\n",
       "      <td>10923.247265</td>\n",
       "      <td>201832143219.96494</td>\n",
       "      <td>19844676458.31769</td>\n",
       "    </tr>\n",
       "    <tr>\n",
       "      <th>720</th>\n",
       "      <td>2020-10-08 17:52:40.000</td>\n",
       "      <td>10888.311672</td>\n",
       "      <td>201563453426.65909</td>\n",
       "      <td>19982721503.69812</td>\n",
       "    </tr>\n",
       "  </tbody>\n",
       "</table>\n",
       "<p>721 rows × 4 columns</p>\n",
       "</div>"
      ],
      "text/plain": [
       "                       date        prices         market_caps  \\\n",
       "0   2020-09-08 18:06:35.390  10161.669939  187872796083.47998   \n",
       "1   2020-09-08 19:04:49.351   9978.866934  184569293251.34650   \n",
       "2   2020-09-08 20:09:12.369  10035.487962  184880236764.03738   \n",
       "3   2020-09-08 21:07:00.045  10004.316334  185349979454.20566   \n",
       "4   2020-09-08 22:02:13.874  10035.279584  184861301524.87192   \n",
       "..                      ...           ...                 ...   \n",
       "716 2020-10-08 14:05:07.225  10734.841332  198717006239.62195   \n",
       "717 2020-10-08 15:08:52.776  10914.223466  201879529063.36963   \n",
       "718 2020-10-08 16:09:39.632  10905.082526  201688770809.50494   \n",
       "719 2020-10-08 17:02:01.391  10923.247265  201832143219.96494   \n",
       "720 2020-10-08 17:52:40.000  10888.311672  201563453426.65909   \n",
       "\n",
       "         total_volumes  \n",
       "0    25166282319.18417  \n",
       "1    45951802996.11790  \n",
       "2    46370746574.33752  \n",
       "3    46344831359.60129  \n",
       "4    46651630923.38908  \n",
       "..                 ...  \n",
       "716  18149142091.04462  \n",
       "717  19455345247.11687  \n",
       "718  19579021043.82126  \n",
       "719  19844676458.31769  \n",
       "720  19982721503.69812  \n",
       "\n",
       "[721 rows x 4 columns]"
      ]
     },
     "execution_count": 80,
     "metadata": {},
     "output_type": "execute_result"
    }
   ],
   "source": [
    "df"
   ]
  },
  {
   "cell_type": "code",
   "execution_count": 96,
   "metadata": {},
   "outputs": [
    {
     "data": {
      "image/png": "[encoded data removed]",
      "text/plain": [
       "<Figure size 432x288 with 1 Axes>"
      ]
     },
     "metadata": {
      "needs_background": "light"
     },
     "output_type": "display_data"
    },
    {
     "data": {
      "image/png": "[encoded data removed]",
      "text/plain": [
       "<Figure size 432x288 with 1 Axes>"
      ]
     },
     "metadata": {
      "needs_background": "light"
     },
     "output_type": "display_data"
    }
   ],
   "source": [
    "df.plot(x=\"date\",y=\"prices\")\n",
    "df.plot(x=\"date\",y=\"market_caps\")\n",
    "plt.title(\"Bitcoin Prices in USD\")\n",
    "plt.show()"
   ]
  },
  {
   "cell_type": "markdown",
   "metadata": {},
   "source": [
    "### Challenge 2: \n",
    "\n",
    "Get the Litecoin market value vs USD for last 30 days. For your results, you would like to deliver them both as a DataFrame and then create an appropriate plot.\n"
   ]
  },
  {
   "cell_type": "code",
   "execution_count": 102,
   "metadata": {},
   "outputs": [
    {
     "name": "stdout",
     "output_type": "stream",
     "text": [
      "dict_keys(['prices', 'market_caps', 'total_volumes'])\n"
     ]
    }
   ],
   "source": [
    "# Your code here:\n",
    "base = 'https://api.coingecko.com/api/v3/'\n",
    "url = base + 'coins/litecoin/market_chart'\n",
    "param_dict = {'id':'litecoin', 'vs_currency':'usd', 'days':30}\n",
    "\n",
    "\n",
    "response = requests.get(url, params=param_dict)\n",
    "results = response.json()\n",
    "\n",
    "print(results.keys())"
   ]
  },
  {
   "cell_type": "code",
   "execution_count": 103,
   "metadata": {},
   "outputs": [],
   "source": [
    "prices = pd.DataFrame(results[\"prices\"])\n",
    "market_caps = pd.DataFrame(results[\"market_caps\"])\n",
    "total_volumes = pd.DataFrame(results[\"total_volumes\"])"
   ]
  },
  {
   "cell_type": "code",
   "execution_count": 112,
   "metadata": {},
   "outputs": [],
   "source": [
    "concat = [prices,market_caps,total_volumes]\n",
    "df = pd.concat(concat,axis=1,ignore_index=True)\n",
    "df = df.drop([2,4],axis=1)\n",
    "df.rename(columns = {0:\"date\",1:\"prices\",3:\"market_caps\",5:\"total_volumes\"},inplace=True)\n",
    "df[\"date\"] = pd.to_datetime(df[\"date\"],unit=\"ms\")"
   ]
  },
  {
   "cell_type": "code",
   "execution_count": 115,
   "metadata": {},
   "outputs": [
    {
     "data": {
      "image/png": "[encoded data removed]",
      "text/plain": [
       "<Figure size 432x288 with 1 Axes>"
      ]
     },
     "metadata": {
      "needs_background": "light"
     },
     "output_type": "display_data"
    },
    {
     "data": {
      "image/png": "[encoded data removed]",
      "text/plain": [
       "<Figure size 432x288 with 1 Axes>"
      ]
     },
     "metadata": {
      "needs_background": "light"
     },
     "output_type": "display_data"
    }
   ],
   "source": [
    "df.plot(x=\"date\",y=\"prices\")\n",
    "df.plot(x=\"date\",y=\"market_caps\")\n",
    "plt.show()"
   ]
  },
  {
   "cell_type": "markdown",
   "metadata": {},
   "source": [
    "### Challenge 3: \n",
    "\n",
    "Get historical data for Bitcoin on January 1st, 2020. As a result, you would like to have a Dataframe which contains all of the currencies against which the price is expressed in one column, and the current price (at that date) in a second column.\n",
    "\n",
    "Hint: you might receive an error message saying \"If using all scalar values, you must pass an index\". Google it! :)\n"
   ]
  },
  {
   "cell_type": "code",
   "execution_count": 139,
   "metadata": {},
   "outputs": [
    {
     "name": "stdout",
     "output_type": "stream",
     "text": [
      "dict_keys(['prices', 'market_caps', 'total_volumes'])\n"
     ]
    }
   ],
   "source": [
    "# Your code here:\n",
    "base = 'https://api.coingecko.com/api/v3/'\n",
    "url = base + 'coins/bitcoin/market_chart'\n",
    "param_dict = {'id':'bitcoin', 'vs_currency':'usd', 'days':\"01-01-2020\"}\n",
    "\n",
    "\n",
    "response = requests.get(url, params=param_dict)\n",
    "results = response.json()\n",
    "\n",
    "print(results.keys())"
   ]
  },
  {
   "cell_type": "code",
   "execution_count": null,
   "metadata": {},
   "outputs": [],
   "source": []
  },
  {
   "cell_type": "markdown",
   "metadata": {},
   "source": [
    "### Challenge 3: \n",
    "\n",
    "Get the ids of all of the coins listed on Coingecko. Extract the bottom ten IDs in a Dataframe."
   ]
  },
  {
   "cell_type": "code",
   "execution_count": 144,
   "metadata": {},
   "outputs": [],
   "source": [
    "url = \"https://api.coingecko.com/api/v3/coins/list\"\n",
    "response = requests.get(url)\n",
    "results = response.json()\n",
    "id_coins = pd.DataFrame(results)"
   ]
  },
  {
   "cell_type": "code",
   "execution_count": 145,
   "metadata": {
    "scrolled": true
   },
   "outputs": [
    {
     "data": {
      "text/html": [
       "<div>\n",
       "<style scoped>\n",
       "    .dataframe tbody tr th:only-of-type {\n",
       "        vertical-align: middle;\n",
       "    }\n",
       "\n",
       "    .dataframe tbody tr th {\n",
       "        vertical-align: top;\n",
       "    }\n",
       "\n",
       "    .dataframe thead th {\n",
       "        text-align: right;\n",
       "    }\n",
       "</style>\n",
       "<table border=\"1\" class=\"dataframe\">\n",
       "  <thead>\n",
       "    <tr style=\"text-align: right;\">\n",
       "      <th></th>\n",
       "      <th>id</th>\n",
       "      <th>symbol</th>\n",
       "      <th>name</th>\n",
       "    </tr>\n",
       "  </thead>\n",
       "  <tbody>\n",
       "    <tr>\n",
       "      <th>5900</th>\n",
       "      <td>zulu-republic-token</td>\n",
       "      <td>ztx</td>\n",
       "      <td>Zulu Republic Token</td>\n",
       "    </tr>\n",
       "    <tr>\n",
       "      <th>5901</th>\n",
       "      <td>zumcoin</td>\n",
       "      <td>zum</td>\n",
       "      <td>ZumCoin</td>\n",
       "    </tr>\n",
       "    <tr>\n",
       "      <th>5902</th>\n",
       "      <td>zum-token</td>\n",
       "      <td>zum</td>\n",
       "      <td>ZUM TOKEN</td>\n",
       "    </tr>\n",
       "    <tr>\n",
       "      <th>5903</th>\n",
       "      <td>zumy</td>\n",
       "      <td>zmy</td>\n",
       "      <td>Zumy</td>\n",
       "    </tr>\n",
       "    <tr>\n",
       "      <th>5904</th>\n",
       "      <td>zvchain</td>\n",
       "      <td>zvc</td>\n",
       "      <td>ZVCHAIN</td>\n",
       "    </tr>\n",
       "    <tr>\n",
       "      <th>5905</th>\n",
       "      <td>zxth</td>\n",
       "      <td>zxth</td>\n",
       "      <td>ZXTH</td>\n",
       "    </tr>\n",
       "    <tr>\n",
       "      <th>5906</th>\n",
       "      <td>zynecoin</td>\n",
       "      <td>zyn</td>\n",
       "      <td>Zynecoin</td>\n",
       "    </tr>\n",
       "    <tr>\n",
       "      <th>5907</th>\n",
       "      <td>zyro</td>\n",
       "      <td>zyro</td>\n",
       "      <td>Zyro</td>\n",
       "    </tr>\n",
       "    <tr>\n",
       "      <th>5908</th>\n",
       "      <td>zyx</td>\n",
       "      <td>zyx</td>\n",
       "      <td>ZYX</td>\n",
       "    </tr>\n",
       "    <tr>\n",
       "      <th>5909</th>\n",
       "      <td>zzz-finance</td>\n",
       "      <td>zzz</td>\n",
       "      <td>zzz.finance</td>\n",
       "    </tr>\n",
       "  </tbody>\n",
       "</table>\n",
       "</div>"
      ],
      "text/plain": [
       "                       id symbol                 name\n",
       "5900  zulu-republic-token    ztx  Zulu Republic Token\n",
       "5901              zumcoin    zum              ZumCoin\n",
       "5902            zum-token    zum            ZUM TOKEN\n",
       "5903                 zumy    zmy                 Zumy\n",
       "5904              zvchain    zvc              ZVCHAIN\n",
       "5905                 zxth   zxth                 ZXTH\n",
       "5906             zynecoin    zyn             Zynecoin\n",
       "5907                 zyro   zyro                 Zyro\n",
       "5908                  zyx    zyx                  ZYX\n",
       "5909          zzz-finance    zzz          zzz.finance"
      ]
     },
     "execution_count": 145,
     "metadata": {},
     "output_type": "execute_result"
    }
   ],
   "source": [
    "id_coins.tail(10)"
   ]
  },
  {
   "cell_type": "code",
   "execution_count": null,
   "metadata": {},
   "outputs": [],
   "source": []
  },
  {
   "cell_type": "markdown",
   "metadata": {},
   "source": [
    "### Bonus Challenge: \n",
    "\n",
    "Write a loop that goes through the 10 coins you retrieved in challenge 3, and for each of them collects the market values against USD for the last 30 days. Then create a dataframe which has three columns: 'time', 'price' and 'coin' and combines the data of all these ten coins.\n",
    "\n",
    "If you're ambitious: create a plot with 10 subplots for all of the series!"
   ]
  },
  {
   "cell_type": "code",
   "execution_count": 83,
   "metadata": {},
   "outputs": [],
   "source": [
    "# Your code here:\n"
   ]
  }
 ],
 "metadata": {
  "kernelspec": {
   "display_name": "Python 3",
   "language": "python",
   "name": "python3"
  },
  "language_info": {
   "codemirror_mode": {
    "name": "ipython",
    "version": 3
   },
   "file_extension": ".py",
   "mimetype": "text/x-python",
   "name": "python",
   "nbconvert_exporter": "python",
   "pygments_lexer": "ipython3",
   "version": "3.8.5"
  }
 },
 "nbformat": 4,
 "nbformat_minor": 4
}
