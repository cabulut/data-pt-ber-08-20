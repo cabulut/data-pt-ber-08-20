{
 "cells": [
  {
   "cell_type": "markdown",
   "metadata": {},
   "source": [
    "## Challenge: Functions\n",
    "\n",
    "In this challenge, we will be defining and applying some functions for problems which we have seen in similar form before!\n",
    "\n",
    "**In the cell below, define a function called max_two which finds the maximum of two input numbers.**\n"
   ]
  },
  {
   "cell_type": "code",
   "execution_count": 3,
   "metadata": {},
   "outputs": [],
   "source": [
    "#*args\n",
    "def max_two(*args):\n",
    "    return max(*args)\n",
    "    "
   ]
  },
  {
   "cell_type": "code",
   "execution_count": 6,
   "metadata": {},
   "outputs": [
    {
     "data": {
      "text/plain": [
       "7"
      ]
     },
     "execution_count": 6,
     "metadata": {},
     "output_type": "execute_result"
    }
   ],
   "source": [
    "max_two(6,7)"
   ]
  },
  {
   "cell_type": "markdown",
   "metadata": {},
   "source": [
    "#### Now apply the function to several pairs of numbers to test if it functions correctly.\n"
   ]
  },
  {
   "cell_type": "code",
   "execution_count": 8,
   "metadata": {},
   "outputs": [
    {
     "data": {
      "text/plain": [
       "8"
      ]
     },
     "execution_count": 8,
     "metadata": {},
     "output_type": "execute_result"
    }
   ],
   "source": [
    "max_two(3,4,5,6,7,8)"
   ]
  },
  {
   "cell_type": "markdown",
   "metadata": {},
   "source": [
    "#### Now write a Python function called check_range to check whether a number is in a given range. \n",
    "\n",
    "The function should take three inputs: the number to test, the first number of the range, and the last number of the range. Add a short documentation that specifies the order of inputs. Lastly, the function should return different statements based on whether the test fails or succeeds!\n"
   ]
  },
  {
   "cell_type": "code",
   "execution_count": 11,
   "metadata": {},
   "outputs": [],
   "source": [
    "#to do: try to code the function shorter and with try and except make sure that integers are given\n",
    "def check_range():\n",
    "    x = input(\"The number to test: \")\n",
    "    y = input(\"The first number of the range: \")\n",
    "    z = input(\"The last number of the range: \")\n",
    "    x = int(x)\n",
    "    y = int(y)\n",
    "    z = int(z)\n",
    "    if x in range(y,z):\n",
    "        print(\"the test succeeds!\")\n",
    "    else:\n",
    "        print(\"the test fails\")"
   ]
  },
  {
   "cell_type": "code",
   "execution_count": 13,
   "metadata": {},
   "outputs": [
    {
     "name": "stdout",
     "output_type": "stream",
     "text": [
      "The number to test: 7\n",
      "The first number of the range: 4\n",
      "The last number of the range: 25\n",
      "the test succeeds!\n"
     ]
    }
   ],
   "source": [
    "check_range()"
   ]
  },
  {
   "cell_type": "markdown",
   "metadata": {},
   "source": [
    "#### Again, apply the function to different numbers to test if it functions correctly.\n"
   ]
  },
  {
   "cell_type": "code",
   "execution_count": 3,
   "metadata": {},
   "outputs": [],
   "source": [
    "check_range()"
   ]
  },
  {
   "cell_type": "markdown",
   "metadata": {},
   "source": [
    "#### Write a function called count_upper_lower that counts the number of uppercase and the number of lowercase characters in a given string."
   ]
  },
  {
   "cell_type": "code",
   "execution_count": 26,
   "metadata": {},
   "outputs": [],
   "source": [
    "# to do:\n",
    "# numbers and special characters might be added as well\n",
    "# with try and except make sure that only a string is being provided to run the function\n",
    "def count_upper_lower(str):\n",
    "    upper,lower = 0,0\n",
    "    for i in range(len(str)):\n",
    "        if str[i].isupper():\n",
    "            upper += 1\n",
    "        else:\n",
    "            lower += 1\n",
    "    return upper, lower"
   ]
  },
  {
   "cell_type": "markdown",
   "metadata": {},
   "source": [
    "#### Apply the function to the test string \"A large grey cat was asleep on a rocking chair in Idaho.\"."
   ]
  },
  {
   "cell_type": "code",
   "execution_count": 27,
   "metadata": {},
   "outputs": [
    {
     "data": {
      "text/plain": [
       "(2, 54)"
      ]
     },
     "execution_count": 27,
     "metadata": {},
     "output_type": "execute_result"
    }
   ],
   "source": [
    "count_upper_lower(\"A large grey cat was asleep on a rocking chair in Idaho.\")"
   ]
  },
  {
   "cell_type": "code",
   "execution_count": null,
   "metadata": {},
   "outputs": [],
   "source": []
  }
 ],
 "metadata": {
  "kernelspec": {
   "display_name": "Python 3",
   "language": "python",
   "name": "python3"
  },
  "language_info": {
   "codemirror_mode": {
    "name": "ipython",
    "version": 3
   },
   "file_extension": ".py",
   "mimetype": "text/x-python",
   "name": "python",
   "nbconvert_exporter": "python",
   "pygments_lexer": "ipython3",
   "version": "3.8.5"
  }
 },
 "nbformat": 4,
 "nbformat_minor": 2
}
